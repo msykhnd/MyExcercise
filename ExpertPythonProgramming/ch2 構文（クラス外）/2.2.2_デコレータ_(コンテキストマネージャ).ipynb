{
 "cells": [
  {
   "cell_type": "markdown",
   "metadata": {},
   "source": [
    "# コンテキストマネージャ（With構文）\n",
    "1. ファイルを閉じる\n",
    "2. ロック解除\n",
    "3. 一時的にコードへパッチを充てる\n",
    "4. 特定環境で保護されたコードを実行する"
   ]
  },
  {
   "cell_type": "code",
   "execution_count": 10,
   "metadata": {},
   "outputs": [],
   "source": [
    "hosts = open(\"\\\\Users\\shiro\\Desktop\\hosts.txt\")"
   ]
  },
  {
   "cell_type": "code",
   "execution_count": 11,
   "metadata": {},
   "outputs": [
    {
     "name": "stdout",
     "output_type": "stream",
     "text": [
      "hello?\n",
      "hello\n",
      "HELLO!!\n"
     ]
    }
   ],
   "source": [
    "try:\n",
    "    for line in hosts:\n",
    "        if line.startswith(\"#\"):\n",
    "            continue\n",
    "        print(line.strip())\n",
    "finally:\n",
    "    hosts.close()"
   ]
  },
  {
   "cell_type": "code",
   "execution_count": 12,
   "metadata": {},
   "outputs": [
    {
     "name": "stdout",
     "output_type": "stream",
     "text": [
      "hello?\n",
      "hello\n",
      "HELLO!!\n"
     ]
    }
   ],
   "source": [
    "with open(\"\\\\Users\\shiro\\Desktop\\hosts.txt\")as hosts:\n",
    "    for line in hosts:\n",
    "        if line.startswith(\"#\"):\n",
    "            continue\n",
    "        print(line.strip())\n",
    "\n",
    "# with コンテキストマネージャ：\n",
    "# with コンテキストマネージャ as CM：\n",
    "# with A as a ,B as b :\n"
   ]
  },
  {
   "cell_type": "code",
   "execution_count": 13,
   "metadata": {},
   "outputs": [],
   "source": [
    "# コンテキストマネージャプロトコルを実装したオブジェクトは以下の二つのメソッドを含む\n",
    "#__enter__(self) \n",
    "#__exit__(self,exc_type,exc_val,traceback)\n",
    "\n",
    "# __enter__メソッドが最初に実行され，戻り値が as で指定されたターゲットに束縛\n",
    "# with 文内のコードブロックの実行\n",
    "# __exit__()の実行\n",
    "\n",
    "# クラスベースのコンテキストマネージャの作成\n",
    "class ContextIllustraion:\n",
    "    def __enter__(self):\n",
    "        print(\"コンテキストに入る\")\n",
    "    def __exit__(self,exc_type,exc_value,traceback):\n",
    "        print(\"コンテキストから出る\")\n",
    "        if exc_type is None:\n",
    "            print(\"ヨシ！\")\n",
    "        else:\n",
    "            print(\"エラー（%s）が発生しました\"%exc_value)"
   ]
  },
  {
   "cell_type": "code",
   "execution_count": 14,
   "metadata": {},
   "outputs": [
    {
     "name": "stdout",
     "output_type": "stream",
     "text": [
      "コンテキストに入る\n",
      "コンテキスト内\n",
      "コンテキストから出る\n",
      "ヨシ！\n"
     ]
    }
   ],
   "source": [
    "with ContextIllustraion():\n",
    "    print(\"コンテキスト内\")"
   ]
  },
  {
   "cell_type": "code",
   "execution_count": 15,
   "metadata": {},
   "outputs": [
    {
     "name": "stdout",
     "output_type": "stream",
     "text": [
      "コンテキストに入る\n",
      "コンテキストから出る\n",
      "エラー（With内で発生！！）が発生しました\n"
     ]
    },
    {
     "ename": "RuntimeError",
     "evalue": "With内で発生！！",
     "output_type": "error",
     "traceback": [
      "\u001b[1;31m---------------------------------------------------------------------------\u001b[0m",
      "\u001b[1;31mRuntimeError\u001b[0m                              Traceback (most recent call last)",
      "\u001b[1;32m<ipython-input-15-316afc0f4acf>\u001b[0m in \u001b[0;36m<module>\u001b[1;34m\u001b[0m\n\u001b[0;32m      1\u001b[0m \u001b[1;32mwith\u001b[0m \u001b[0mContextIllustraion\u001b[0m\u001b[1;33m(\u001b[0m\u001b[1;33m)\u001b[0m\u001b[1;33m:\u001b[0m\u001b[1;33m\u001b[0m\u001b[1;33m\u001b[0m\u001b[0m\n\u001b[1;32m----> 2\u001b[1;33m     \u001b[1;32mraise\u001b[0m \u001b[0mRuntimeError\u001b[0m\u001b[1;33m(\u001b[0m\u001b[1;34m\"With内で発生！！\"\u001b[0m\u001b[1;33m)\u001b[0m\u001b[1;33m\u001b[0m\u001b[1;33m\u001b[0m\u001b[0m\n\u001b[0m",
      "\u001b[1;31mRuntimeError\u001b[0m: With内で発生！！"
     ]
    }
   ],
   "source": [
    "with ContextIllustraion():\n",
    "    raise RuntimeError(\"With内で発生！！\")"
   ]
  },
  {
   "cell_type": "code",
   "execution_count": 17,
   "metadata": {},
   "outputs": [],
   "source": [
    "# 関数ベースのコンテキストマネージャの作成\n",
    "# クラスベースのコンテキストマネージャをシンプルに作成したいときに\n",
    "\n",
    "\n",
    "from contextlib import contextmanager\n",
    "\n",
    "@contextmanager\n",
    "def context_illustration():\n",
    "    print(\"コンテキストに入る\")\n",
    "    try:\n",
    "        yield\n",
    "    except Exception as e:\n",
    "        print(\"コンテキストから出ます\")\n",
    "        print(\"エラー（%s）が発生しました\"%exc_value)\n",
    "        raise\n",
    "    else:\n",
    "        print(\"コンテキストから出る\")\n",
    "        print(\"ヨシ！\")"
   ]
  },
  {
   "cell_type": "code",
   "execution_count": null,
   "metadata": {},
   "outputs": [],
   "source": []
  }
 ],
 "metadata": {
  "kernelspec": {
   "display_name": "PyCharm (MyExercise)",
   "language": "python",
   "name": "pycharm-8dd1b8f8"
  },
  "language_info": {
   "codemirror_mode": {
    "name": "ipython",
    "version": 3
   },
   "file_extension": ".py",
   "mimetype": "text/x-python",
   "name": "python",
   "nbconvert_exporter": "python",
   "pygments_lexer": "ipython3",
   "version": "3.6.8"
  }
 },
 "nbformat": 4,
 "nbformat_minor": 4
}
