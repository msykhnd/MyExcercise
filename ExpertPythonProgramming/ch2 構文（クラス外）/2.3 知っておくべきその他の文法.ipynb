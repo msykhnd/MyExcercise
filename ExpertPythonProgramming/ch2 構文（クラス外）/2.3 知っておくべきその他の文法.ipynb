{
 "cells": [
  {
   "cell_type": "markdown",
   "metadata": {},
   "source": [
    "# 2.3.1 for ...else 文\n",
    "for ループのあとのelse 分は「No break」"
   ]
  },
  {
   "cell_type": "code",
   "execution_count": 1,
   "metadata": {},
   "outputs": [],
   "source": [
    "for number in range(1):\n",
    "    break\n",
    "else :\n",
    "    print(\"Breakなし\")"
   ]
  },
  {
   "cell_type": "code",
   "execution_count": 2,
   "metadata": {},
   "outputs": [
    {
     "name": "stdout",
     "output_type": "stream",
     "text": [
      "Breakなし\n"
     ]
    }
   ],
   "source": [
    "for number in range(1):\n",
    "    pass\n",
    "else :\n",
    "    print(\"Breakなし\")"
   ]
  },
  {
   "cell_type": "markdown",
   "metadata": {},
   "source": [
    "# 2.3.2 関数アノテーション\n",
    "関数にメモ書き追加できるよ！\n",
    "ポテンシャルはあるけど混乱のもとだよね．\n",
    "型情報の提供や引数戻り値の説明に，，，\n"
   ]
  },
  {
   "cell_type": "code",
   "execution_count": 4,
   "metadata": {},
   "outputs": [
    {
     "name": "stdout",
     "output_type": "stream",
     "text": [
      "{'ham': <class 'str'>, 'eggd': <class 'str'>, 'return': <class 'str'>}\n"
     ]
    }
   ],
   "source": [
    "# コロン区切りで引数の型名\n",
    "# 関数の宣言最後の間に->ZAZ\n",
    "def f(ham:str,eggd:str = \"eggs\") -> str:\n",
    "    pass\n",
    "print(f.__annotations__)"
   ]
  },
  {
   "cell_type": "code",
   "execution_count": null,
   "metadata": {},
   "outputs": [],
   "source": []
  }
 ],
 "metadata": {
  "kernelspec": {
   "display_name": "PyCharm (MyExercise)",
   "language": "python",
   "name": "pycharm-8dd1b8f8"
  },
  "language_info": {
   "codemirror_mode": {
    "name": "ipython",
    "version": 3
   },
   "file_extension": ".py",
   "mimetype": "text/x-python",
   "name": "python",
   "nbconvert_exporter": "python",
   "pygments_lexer": "ipython3",
   "version": "3.6.8"
  }
 },
 "nbformat": 4,
 "nbformat_minor": 4
}
