{
 "cells": [
  {
   "cell_type": "markdown",
   "metadata": {},
   "source": [
    "# 活用まとめ\n",
    "1. 引数チェック\n",
    "2. キャッシュ\n",
    "3. プロキシ\n",
    "4. コンテキストプロバイダ"
   ]
  },
  {
   "cell_type": "code",
   "execution_count": 1,
   "metadata": {
    "pycharm": {
     "name": "#%%\n"
    }
   },
   "outputs": [],
   "source": [
    "rpc_info= {}\n",
    "def xmlrpc(in_ = (),out = (type(None),)):\n",
    "    def _xmlrpc(function):\n",
    "        # 引数情報の登録\n",
    "        func_name = function.__name__\n",
    "        rpc_info[func_name]=(in_,out)\n",
    "        \n",
    "        def _check_types(elements,types):\n",
    "            \"\"\"型をチェックするサブ関数\"\"\"\n",
    "            if len(elements)!= len(types):\n",
    "                raise TypeError(\"引数の個数を間違えています\")\n",
    "            typed =enumerate(zip(elements,types))\n",
    "            for index,couple in typed:\n",
    "                arg,of_the_right_type=couple\n",
    "                if isinstance(arg,of_the_right_type):\n",
    "\n",
    "                    continue\n",
    "                raise TypeError(\"引数#%dは%s型である必要があります\"%(index,of_the_right_type))\n",
    "                \n",
    "        def __xmlrpc(*args):\n",
    "            # 入力チェック\n",
    "            checkable_args = args[1:]\n",
    "            _check_types(checkable_args,in_)\n",
    "            # 関数の実行\n",
    "            res = function (*args)\n",
    "            # 出力値のチェック\n",
    "            if not type(res)in (tuple,list):\n",
    "                checkable_res = (res,)\n",
    "            else:\n",
    "                checkable_res = res\n",
    "            _check_types(checkable_res,out)\n",
    "            # 関数と型のチェックが成功\n",
    "            return res\n",
    "        return __xmlrpc\n",
    "    return _xmlrpc"
   ]
  },
  {
   "cell_type": "code",
   "execution_count": 2,
   "metadata": {
    "pycharm": {
     "name": "#%%\n"
    }
   },
   "outputs": [],
   "source": [
    "class RPCView:\n",
    "    @xmlrpc((int,int))\n",
    "    def meth1(self,int1,int2):\n",
    "        print(\"%dと%dを受け取りました\"%(int1,int2))\n",
    "    @xmlrpc((str,),(int,))\n",
    "    def meth2(self,phrase):\n",
    "        print(\"%sを受け取りました\"%phrase)\n",
    "        return 12\n",
    "    "
   ]
  },
  {
   "cell_type": "code",
   "execution_count": 3,
   "metadata": {
    "pycharm": {
     "name": "#%%\n"
    }
   },
   "outputs": [
    {
     "data": {
      "text/plain": [
       "{'meth1': ((int, int), (NoneType,)), 'meth2': ((str,), (int,))}"
      ]
     },
     "execution_count": 3,
     "metadata": {},
     "output_type": "execute_result"
    }
   ],
   "source": [
    "rpc_info"
   ]
  },
  {
   "cell_type": "code",
   "execution_count": 4,
   "metadata": {
    "pycharm": {
     "name": "#%%\n"
    }
   },
   "outputs": [],
   "source": [
    "my = RPCView()"
   ]
  },
  {
   "cell_type": "code",
   "execution_count": 5,
   "metadata": {
    "pycharm": {
     "name": "#%%\n"
    }
   },
   "outputs": [
    {
     "name": "stdout",
     "output_type": "stream",
     "text": [
      "1と2を受け取りました\n"
     ]
    }
   ],
   "source": [
    "my.meth1(1,2)"
   ]
  },
  {
   "cell_type": "code",
   "execution_count": 6,
   "metadata": {
    "pycharm": {
     "name": "#%%\n"
    }
   },
   "outputs": [
    {
     "ename": "TypeError",
     "evalue": "引数#0は<class 'str'>型である必要があります",
     "output_type": "error",
     "traceback": [
      "\u001b[1;31m---------------------------------------------------------------------------\u001b[0m",
      "\u001b[1;31mTypeError\u001b[0m                                 Traceback (most recent call last)",
      "\u001b[1;32m<ipython-input-6-80c8e3f6375d>\u001b[0m in \u001b[0;36m<module>\u001b[1;34m\u001b[0m\n\u001b[1;32m----> 1\u001b[1;33m \u001b[0mmy\u001b[0m\u001b[1;33m.\u001b[0m\u001b[0mmeth2\u001b[0m\u001b[1;33m(\u001b[0m\u001b[1;36m2\u001b[0m\u001b[1;33m)\u001b[0m\u001b[1;33m\u001b[0m\u001b[1;33m\u001b[0m\u001b[0m\n\u001b[0m",
      "\u001b[1;32m<ipython-input-1-475631e1f4bc>\u001b[0m in \u001b[0;36m__xmlrpc\u001b[1;34m(*args)\u001b[0m\n\u001b[0;32m     21\u001b[0m             \u001b[1;31m# 入力チェック\u001b[0m\u001b[1;33m\u001b[0m\u001b[1;33m\u001b[0m\u001b[1;33m\u001b[0m\u001b[0m\n\u001b[0;32m     22\u001b[0m             \u001b[0mcheckable_args\u001b[0m \u001b[1;33m=\u001b[0m \u001b[0margs\u001b[0m\u001b[1;33m[\u001b[0m\u001b[1;36m1\u001b[0m\u001b[1;33m:\u001b[0m\u001b[1;33m]\u001b[0m\u001b[1;33m\u001b[0m\u001b[1;33m\u001b[0m\u001b[0m\n\u001b[1;32m---> 23\u001b[1;33m             \u001b[0m_check_types\u001b[0m\u001b[1;33m(\u001b[0m\u001b[0mcheckable_args\u001b[0m\u001b[1;33m,\u001b[0m\u001b[0min_\u001b[0m\u001b[1;33m)\u001b[0m\u001b[1;33m\u001b[0m\u001b[1;33m\u001b[0m\u001b[0m\n\u001b[0m\u001b[0;32m     24\u001b[0m             \u001b[1;31m# 関数の実行\u001b[0m\u001b[1;33m\u001b[0m\u001b[1;33m\u001b[0m\u001b[1;33m\u001b[0m\u001b[0m\n\u001b[0;32m     25\u001b[0m             \u001b[0mres\u001b[0m \u001b[1;33m=\u001b[0m \u001b[0mfunction\u001b[0m \u001b[1;33m(\u001b[0m\u001b[1;33m*\u001b[0m\u001b[0margs\u001b[0m\u001b[1;33m)\u001b[0m\u001b[1;33m\u001b[0m\u001b[1;33m\u001b[0m\u001b[0m\n",
      "\u001b[1;32m<ipython-input-1-475631e1f4bc>\u001b[0m in \u001b[0;36m_check_types\u001b[1;34m(elements, types)\u001b[0m\n\u001b[0;32m     16\u001b[0m \u001b[1;33m\u001b[0m\u001b[0m\n\u001b[0;32m     17\u001b[0m                     \u001b[1;32mcontinue\u001b[0m\u001b[1;33m\u001b[0m\u001b[1;33m\u001b[0m\u001b[0m\n\u001b[1;32m---> 18\u001b[1;33m                 \u001b[1;32mraise\u001b[0m \u001b[0mTypeError\u001b[0m\u001b[1;33m(\u001b[0m\u001b[1;34m\"引数#%dは%s型である必要があります\"\u001b[0m\u001b[1;33m%\u001b[0m\u001b[1;33m(\u001b[0m\u001b[0mindex\u001b[0m\u001b[1;33m,\u001b[0m\u001b[0mof_the_right_type\u001b[0m\u001b[1;33m)\u001b[0m\u001b[1;33m)\u001b[0m\u001b[1;33m\u001b[0m\u001b[1;33m\u001b[0m\u001b[0m\n\u001b[0m\u001b[0;32m     19\u001b[0m \u001b[1;33m\u001b[0m\u001b[0m\n\u001b[0;32m     20\u001b[0m         \u001b[1;32mdef\u001b[0m \u001b[0m__xmlrpc\u001b[0m\u001b[1;33m(\u001b[0m\u001b[1;33m*\u001b[0m\u001b[0margs\u001b[0m\u001b[1;33m)\u001b[0m\u001b[1;33m:\u001b[0m\u001b[1;33m\u001b[0m\u001b[1;33m\u001b[0m\u001b[0m\n",
      "\u001b[1;31mTypeError\u001b[0m: 引数#0は<class 'str'>型である必要があります"
     ]
    }
   ],
   "source": [
    "my.meth2(2)"
   ]
  },
  {
   "cell_type": "code",
   "execution_count": 7,
   "metadata": {},
   "outputs": [],
   "source": [
    "# キャッシュ（メモ化 MEMONIZE）\n",
    "# 出力が内部状態の影響を受けないときに有効．，計算が高付加な関数など\n",
    "import time\n",
    "import hashlib\n",
    "import pickle\n",
    "\n",
    "cash = {}\n",
    "\n",
    "def is_obsolete(entry,duration):\n",
    "    return time.time() -entry[\"time\"]>duration\n",
    "\n",
    "def compute_key(function,args,kw):\n",
    "    key= pickle.dumps((function.__name__,args,kw))\n",
    "    return hashlib.sha1(key).hexdigest()\n",
    "\n",
    "def memoize(duration = 10):\n",
    "    def _memoize(function):\n",
    "        def __memoize(*args,**kw):\n",
    "            key = compute_key(function,args,kw)\n",
    "            #計算済みか否か\n",
    "            if (key in cash and not is_obsolete(cash[key],duration)):\n",
    "                print(\"キャッシュ済みの値を取得\")\n",
    "                return cash[key][\"value\"]\n",
    "            # 計算\n",
    "            result = function(*args,**kw)\n",
    "            # 結果の保存\n",
    "            cash[key]={\"value\" :result,\"time\":time.time()}\n",
    "            return result\n",
    "        return __memoize\n",
    "    return _memoize"
   ]
  },
  {
   "cell_type": "code",
   "execution_count": 8,
   "metadata": {},
   "outputs": [],
   "source": [
    "@memoize()\n",
    "def very_vomplex_complex_stuff(a,b):\n",
    "    return a + b"
   ]
  },
  {
   "cell_type": "code",
   "execution_count": 27,
   "metadata": {},
   "outputs": [
    {
     "data": {
      "text/plain": [
       "6"
      ]
     },
     "execution_count": 27,
     "metadata": {},
     "output_type": "execute_result"
    }
   ],
   "source": [
    "very_vomplex_complex_stuff(2,4)"
   ]
  },
  {
   "cell_type": "code",
   "execution_count": 28,
   "metadata": {},
   "outputs": [
    {
     "name": "stdout",
     "output_type": "stream",
     "text": [
      "キャッシュ済みの値を取得\n"
     ]
    },
    {
     "data": {
      "text/plain": [
       "6"
      ]
     },
     "execution_count": 28,
     "metadata": {},
     "output_type": "execute_result"
    }
   ],
   "source": [
    "very_vomplex_complex_stuff(2,4)"
   ]
  },
  {
   "cell_type": "code",
   "execution_count": 29,
   "metadata": {},
   "outputs": [],
   "source": [
    "# プロキシ\n",
    "# 関数のタグ付けやグローバルな仕組みへの登録\n",
    "class User(object):\n",
    "    def __init__(self, roles):\n",
    "        self.roles = roles\n",
    "\n",
    "class Unauthorized(Exception):\n",
    "    pass\n",
    "\n",
    "def protect (role):\n",
    "    def _protect(function):\n",
    "        def __protect(*arg,**kw):\n",
    "            user= globals().get(\"user\")\n",
    "            # globals() グローバル変数を辞書形式で取得\n",
    "            if user is None or role not in user.roles:\n",
    "                raise Unauthorized(\"ひ み つ\")\n",
    "            return function(*arg,**kw)\n",
    "        return __protect\n",
    "    return _protect\n",
    "## Django には関数アクセスを安全にすデコレータがある"
   ]
  },
  {
   "cell_type": "code",
   "execution_count": 35,
   "metadata": {},
   "outputs": [],
   "source": [
    "tarek = User((\"admin\",\"user\"))\n",
    "bill =User((\"user\",))\n",
    "class MySecrets(object):\n",
    "    @protect(\"admin\")\n",
    "    def waffle_recipe(self):\n",
    "        print(\"バター：１トン\")"
   ]
  },
  {
   "cell_type": "code",
   "execution_count": 38,
   "metadata": {},
   "outputs": [
    {
     "name": "stdout",
     "output_type": "stream",
     "text": [
      "バター：１トン\n"
     ]
    }
   ],
   "source": [
    "these_are = MySecrets()\n",
    "user = tarek\n",
    "these_are.waffle_recipe()"
   ]
  },
  {
   "cell_type": "code",
   "execution_count": 39,
   "metadata": {},
   "outputs": [
    {
     "ename": "Unauthorized",
     "evalue": "ひ み つ",
     "output_type": "error",
     "traceback": [
      "\u001b[1;31m---------------------------------------------------------------------------\u001b[0m",
      "\u001b[1;31mUnauthorized\u001b[0m                              Traceback (most recent call last)",
      "\u001b[1;32m<ipython-input-39-788a6640cc20>\u001b[0m in \u001b[0;36m<module>\u001b[1;34m\u001b[0m\n\u001b[0;32m      1\u001b[0m \u001b[0muser\u001b[0m \u001b[1;33m=\u001b[0m \u001b[0mbill\u001b[0m\u001b[1;33m\u001b[0m\u001b[1;33m\u001b[0m\u001b[0m\n\u001b[1;32m----> 2\u001b[1;33m \u001b[0mthese_are\u001b[0m\u001b[1;33m.\u001b[0m\u001b[0mwaffle_recipe\u001b[0m\u001b[1;33m(\u001b[0m\u001b[1;33m)\u001b[0m\u001b[1;33m\u001b[0m\u001b[1;33m\u001b[0m\u001b[0m\n\u001b[0m",
      "\u001b[1;32m<ipython-input-29-c24e9af21723>\u001b[0m in \u001b[0;36m__protect\u001b[1;34m(*arg, **kw)\u001b[0m\n\u001b[0;32m     13\u001b[0m             \u001b[0muser\u001b[0m\u001b[1;33m=\u001b[0m \u001b[0mglobals\u001b[0m\u001b[1;33m(\u001b[0m\u001b[1;33m)\u001b[0m\u001b[1;33m.\u001b[0m\u001b[0mget\u001b[0m\u001b[1;33m(\u001b[0m\u001b[1;34m\"user\"\u001b[0m\u001b[1;33m)\u001b[0m\u001b[1;33m\u001b[0m\u001b[1;33m\u001b[0m\u001b[0m\n\u001b[0;32m     14\u001b[0m             \u001b[1;32mif\u001b[0m \u001b[0muser\u001b[0m \u001b[1;32mis\u001b[0m \u001b[1;32mNone\u001b[0m \u001b[1;32mor\u001b[0m \u001b[0mrole\u001b[0m \u001b[1;32mnot\u001b[0m \u001b[1;32min\u001b[0m \u001b[0muser\u001b[0m\u001b[1;33m.\u001b[0m\u001b[0mroles\u001b[0m\u001b[1;33m:\u001b[0m\u001b[1;33m\u001b[0m\u001b[1;33m\u001b[0m\u001b[0m\n\u001b[1;32m---> 15\u001b[1;33m                 \u001b[1;32mraise\u001b[0m \u001b[0mUnauthorized\u001b[0m\u001b[1;33m(\u001b[0m\u001b[1;34m\"ひ み つ\"\u001b[0m\u001b[1;33m)\u001b[0m\u001b[1;33m\u001b[0m\u001b[1;33m\u001b[0m\u001b[0m\n\u001b[0m\u001b[0;32m     16\u001b[0m             \u001b[1;32mreturn\u001b[0m \u001b[0mfunction\u001b[0m\u001b[1;33m(\u001b[0m\u001b[1;33m*\u001b[0m\u001b[0marg\u001b[0m\u001b[1;33m,\u001b[0m\u001b[1;33m**\u001b[0m\u001b[0mkw\u001b[0m\u001b[1;33m)\u001b[0m\u001b[1;33m\u001b[0m\u001b[1;33m\u001b[0m\u001b[0m\n\u001b[0;32m     17\u001b[0m         \u001b[1;32mreturn\u001b[0m \u001b[0m__protect\u001b[0m\u001b[1;33m\u001b[0m\u001b[1;33m\u001b[0m\u001b[0m\n",
      "\u001b[1;31mUnauthorized\u001b[0m: ひ み つ"
     ]
    }
   ],
   "source": [
    "user = bill\n",
    "these_are.waffle_recipe()"
   ]
  },
  {
   "cell_type": "code",
   "execution_count": 41,
   "metadata": {},
   "outputs": [],
   "source": [
    "# コンテキストプロバイダ\n",
    "# 関数が正しい実行コンテキスト内で実行されることを保証したり，関数前後の処理を行ったりする\n",
    "# スレッド間でのデータ共有のため，複数のスレッドがらアクセスされてもデータが保護されていることを保証するためにロックを使用する\n",
    "# With 文の方が一般的か\n",
    "from threading import RLock\n",
    "lock=RLock()\n",
    "\n",
    "def scyncronized(function):\n",
    "    def _scyncronized(*args,**kw):\n",
    "        lock.acquire()\n",
    "        try:\n",
    "            return function(*args,**kw)\n",
    "        finally:\n",
    "            lock.release()\n",
    "    return _scyncronized\n",
    "\n",
    "@scyncronized\n",
    "def thread_safe():\n",
    "    pass\n",
    "        "
   ]
  },
  {
   "cell_type": "code",
   "execution_count": 47,
   "metadata": {},
   "outputs": [],
   "source": [
    "class MyClass:\n",
    "    \"\"\"My Doc Strings\"\"\"\n",
    "    pass\n",
    "\n",
    "my = MyClass()\n",
    "def addto(instance):\n",
    "    def _addto(f):\n",
    "        import types\n",
    "        f =types.MethodType(f,instance)\n",
    "        setattr(instance,f.__name__,f)\n",
    "        # インスタンスへ関数fの名前とそのメソッドを追加する\n",
    "        return f\n",
    "    return _addto\n",
    "\n",
    "@addto(my)\n",
    "def print_decstrings(self):\n",
    "    print(self.__doc__)\n",
    "    \n"
   ]
  },
  {
   "cell_type": "code",
   "execution_count": 48,
   "metadata": {},
   "outputs": [
    {
     "name": "stdout",
     "output_type": "stream",
     "text": [
      "My Doc Strings\n"
     ]
    }
   ],
   "source": [
    "my.print_decstrings()"
   ]
  },
  {
   "cell_type": "code",
   "execution_count": 55,
   "metadata": {},
   "outputs": [
    {
     "ename": "SyntaxError",
     "evalue": "Missing parentheses in call to 'print'. Did you mean print(a+b,c*2)? (<ipython-input-55-410658abc840>, line 9)",
     "output_type": "error",
     "traceback": [
      "\u001b[1;36m  File \u001b[1;32m\"<ipython-input-55-410658abc840>\"\u001b[1;36m, line \u001b[1;32m9\u001b[0m\n\u001b[1;33m    print a+b,c*2\u001b[0m\n\u001b[1;37m          ^\u001b[0m\n\u001b[1;31mSyntaxError\u001b[0m\u001b[1;31m:\u001b[0m Missing parentheses in call to 'print'. Did you mean print(a+b,c*2)?\n"
     ]
    }
   ],
   "source": [
    "def print_args(function):\n",
    "    def _print_args(*args,**kw):\n",
    "        print(function.__name__,args,kw)\n",
    "        return function(*args,**kw)\n",
    "    return _print_args\n",
    " \n",
    "@print_args\n",
    "def my_function(a,b,c):\n",
    "    print (a+b,c*2)\n",
    "my_function(5,4,c=\"key\")"
   ]
  },
  {
   "cell_type": "code",
   "execution_count": 56,
   "metadata": {},
   "outputs": [],
   "source": [
    "def onexit(function):\n",
    "    import atexit\n",
    "    atexit.register(function)\n",
    "    return function\n",
    "@onexit\n",
    "def post_function():\n",
    "    print(\"プロセスが終了します\")"
   ]
  },
  {
   "cell_type": "code",
   "execution_count": 57,
   "metadata": {},
   "outputs": [
    {
     "name": "stdout",
     "output_type": "stream",
     "text": [
      "プロセスが終了します\n"
     ]
    }
   ],
   "source": [
    "post_function()"
   ]
  },
  {
   "cell_type": "code",
   "execution_count": null,
   "metadata": {},
   "outputs": [],
   "source": []
  }
 ],
 "metadata": {
  "kernelspec": {
   "display_name": "PyCharm (MyExercise)",
   "language": "python",
   "name": "pycharm-8dd1b8f8"
  },
  "language_info": {
   "codemirror_mode": {
    "name": "ipython",
    "version": 3
   },
   "file_extension": ".py",
   "mimetype": "text/x-python",
   "name": "python",
   "nbconvert_exporter": "python",
   "pygments_lexer": "ipython3",
   "version": "3.6.8"
  },
  "pycharm": {
   "stem_cell": {
    "cell_type": "raw",
    "metadata": {
     "collapsed": false
    },
    "source": []
   }
  }
 },
 "nbformat": 4,
 "nbformat_minor": 1
}
