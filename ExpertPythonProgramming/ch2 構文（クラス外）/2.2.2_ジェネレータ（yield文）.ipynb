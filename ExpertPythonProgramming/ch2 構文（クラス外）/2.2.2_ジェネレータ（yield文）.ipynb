{
 "cells": [
  {
   "cell_type": "code",
   "execution_count": 3,
   "metadata": {
    "collapsed": true,
    "pycharm": {
     "is_executing": false
    }
   },
   "outputs": [
    {
     "name": "stdout",
     "output_type": "stream",
     "text": [
      "1\n",
      "1\n"
     ]
    },
    {
     "data": {
      "text/plain": [
       "[2, 3, 5, 8, 13, 21, 34, 55, 89, 144]"
      ]
     },
     "execution_count": 3,
     "metadata": {},
     "output_type": "execute_result"
    }
   ],
   "source": [
    "# ジェネレータ\n",
    "# 一連の要素を返す関数をシンプルに実装するために\n",
    "\n",
    "# yield 関数を一時停止し，その時点の返り値を返す．\n",
    "# イテレータの一種であるジェネレータで利用すると良い．\n",
    "# 逐一，大きなリストを返すような処理を軽量化できる\n",
    "\n",
    "def fibonacci():\n",
    "    a,b = 0,1\n",
    "    while True:\n",
    "        yield b\n",
    "        a,b = b, a + b\n",
    "\n",
    "fib  = fibonacci()\n",
    "print(next(fib))\n",
    "print(next(fib))\n",
    "[next(fib) for i in range(10)]"
   ]
  },
  {
   "cell_type": "code",
   "execution_count": 4,
   "metadata": {
    "pycharm": {
     "name": "#%%\n"
    }
   },
   "outputs": [],
   "source": [
    "def power(values):\n",
    "    for value in values:\n",
    "        print(\"%s を供給\"%value)\n",
    "        yield value\n",
    "        \n",
    "def adder(values):\n",
    "    for value in values:\n",
    "        print(\"%sに値を追加\"%value)\n",
    "        if value %2 ==0:\n",
    "            yield value +3\n",
    "        else:\n",
    "            yield value +2\n",
    "            \n"
   ]
  },
  {
   "cell_type": "code",
   "execution_count": 5,
   "metadata": {},
   "outputs": [
    {
     "name": "stdout",
     "output_type": "stream",
     "text": [
      "1 を供給\n",
      "1に値を追加\n"
     ]
    },
    {
     "data": {
      "text/plain": [
       "3"
      ]
     },
     "execution_count": 5,
     "metadata": {},
     "output_type": "execute_result"
    }
   ],
   "source": [
    "# パイプのようにつなげる\n",
    "# データ群全体を一つのイテレータとして扱うことが出来ると良い．\n",
    "elements = [1,4,7,9,12,19]\n",
    "result = adder(power(elements))\n",
    "next(result)"
   ]
  },
  {
   "cell_type": "code",
   "execution_count": 6,
   "metadata": {},
   "outputs": [
    {
     "name": "stdout",
     "output_type": "stream",
     "text": [
      "4 を供給\n",
      "4に値を追加\n"
     ]
    },
    {
     "data": {
      "text/plain": [
       "7"
      ]
     },
     "execution_count": 6,
     "metadata": {},
     "output_type": "execute_result"
    }
   ],
   "source": [
    "next(result)"
   ]
  },
  {
   "cell_type": "code",
   "execution_count": 7,
   "metadata": {},
   "outputs": [
    {
     "name": "stdout",
     "output_type": "stream",
     "text": [
      "7 を供給\n",
      "7に値を追加\n"
     ]
    },
    {
     "data": {
      "text/plain": [
       "9"
      ]
     },
     "execution_count": 7,
     "metadata": {},
     "output_type": "execute_result"
    }
   ],
   "source": [
    "next(result)"
   ]
  },
  {
   "cell_type": "code",
   "execution_count": 12,
   "metadata": {},
   "outputs": [],
   "source": [
    "# f.send()で外部クライアントからジェネレータ内にデータを送ることが出来る\n",
    "def psycologist():\n",
    "    print(\"あなたの悩みを聞かせてください\")\n",
    "    while True:\n",
    "        answer=(yield)\n",
    "        if answer is not None:\n",
    "            if answer.endswith(\"？\"):\n",
    "                print(\"自分自身に問いかけすぎないように\")\n",
    "            elif \"良い\"in answer:\n",
    "                print(\"それはいい\")\n",
    "            elif \"悪い\"in answer:\n",
    "                print(\"それは悪い\")\n",
    "# f.throw() クライアント側から任意の例外を送る．\n",
    "# f.close() throwと同じように動作．ただしGeneratorExitかStopIterationを発生させる必要がある．"
   ]
  },
  {
   "cell_type": "code",
   "execution_count": 17,
   "metadata": {},
   "outputs": [
    {
     "name": "stdout",
     "output_type": "stream",
     "text": [
      "あなたの悩みを聞かせてください\n",
      "それは悪い\n"
     ]
    }
   ],
   "source": [
    "free = psycologist()\n",
    "next(free)\n",
    "free.send(\"頭が悪い\")"
   ]
  },
  {
   "cell_type": "code",
   "execution_count": 18,
   "metadata": {},
   "outputs": [
    {
     "name": "stdout",
     "output_type": "stream",
     "text": [
      "自分自身に問いかけすぎないように\n"
     ]
    }
   ],
   "source": [
    "free.send(\"なんで？\")"
   ]
  },
  {
   "cell_type": "code",
   "execution_count": 20,
   "metadata": {},
   "outputs": [
    {
     "name": "stdout",
     "output_type": "stream",
     "text": [
      "0\n",
      "4\n",
      "16\n",
      "36\n",
      "64\n"
     ]
    }
   ],
   "source": [
    "# ジェネレータ式 genexp\n",
    "# リスト内包表記のブラケット[]を()にするだけ\n",
    "iter = (x**2 for x in range(10)if x%2 == 0)\n",
    "for el in iter:\n",
    "    print(el)"
   ]
  },
  {
   "cell_type": "code",
   "execution_count": 21,
   "metadata": {},
   "outputs": [
    {
     "name": "stdout",
     "output_type": "stream",
     "text": [
      "<class 'generator'>\n"
     ]
    }
   ],
   "source": [
    "print(type(iter))"
   ]
  },
  {
   "cell_type": "code",
   "execution_count": 22,
   "metadata": {},
   "outputs": [
    {
     "name": "stdout",
     "output_type": "stream",
     "text": [
      "<generator object <genexpr> at 0x000001C91B5224C0>\n"
     ]
    }
   ],
   "source": [
    "print(iter)"
   ]
  },
  {
   "cell_type": "code",
   "execution_count": 24,
   "metadata": {
    "pycharm": {
     "name": "#%%\n"
    }
   },
   "outputs": [
    {
     "name": "stdout",
     "output_type": "stream",
     "text": [
      "0\n"
     ]
    }
   ],
   "source": [
    "iter = (x**2 for x in range(10)if x%2 == 0)\n",
    "print(next(iter))\n",
    "\n",
    "\n"
   ]
  }
 ],
 "metadata": {
  "kernelspec": {
   "display_name": "PyCharm (MyExercise)",
   "language": "python",
   "name": "pycharm-8dd1b8f8"
  },
  "language_info": {
   "codemirror_mode": {
    "name": "ipython",
    "version": 3
   },
   "file_extension": ".py",
   "mimetype": "text/x-python",
   "name": "python",
   "nbconvert_exporter": "python",
   "pygments_lexer": "ipython3",
   "version": "3.6.8"
  },
  "pycharm": {
   "stem_cell": {
    "cell_type": "raw",
    "source": [],
    "metadata": {
     "collapsed": false
    }
   }
  }
 },
 "nbformat": 4,
 "nbformat_minor": 1
}