{
 "cells": [
  {
   "cell_type": "code",
   "execution_count": 1,
   "metadata": {
    "pycharm": {
     "name": "#%%\n"
    }
   },
   "outputs": [],
   "source": [
    "# デコレータ\n",
    "# 関数やメソッドのラッピング処理の見た目を分かりやすくするために\n",
    "# クラスメソッド： インスタンス化しなくても直接呼び出せるメソッド\n",
    "class WithoutDecorators:\n",
    "    def some_static_method():\n",
    "        print(\"これは静的なメソッド\")\n",
    "    some_static_method = staticmethod(some_static_method)\n",
    "    \n",
    "    def some_class_method(cls):\n",
    "        print(\"これはクラスメソッド\")\n",
    "    some_class_method = classmethod(some_class_method)\n",
    "    \n",
    "#### 同じ\n",
    "class WothDecorators:\n",
    "    @staticmethod\n",
    "    def some_static_method():\n",
    "        print(\"これは静的なメソッド\")\n",
    "    @classmethod\n",
    "    def some_class_method(cls):\n",
    "        print(\"これはクラスメソッド\")"
   ]
  },
  {
   "cell_type": "code",
   "execution_count": 2,
   "metadata": {
    "pycharm": {
     "name": "#%%\n"
    }
   },
   "outputs": [],
   "source": [
    "def some_decorator(item):\n",
    "    return str(item)\n",
    "#\n",
    "@some_decorator\n",
    "def decorated_function():\n",
    "    pass\n",
    "###\n",
    "def decorated_function():\n",
    "    pass\n",
    "decorated_function = some_decorator(decorated_function)"
   ]
  },
  {
   "cell_type": "code",
   "execution_count": 3,
   "metadata": {
    "pycharm": {
     "name": "#%%\n"
    }
   },
   "outputs": [],
   "source": [
    "# デコレータを関数として実装\n",
    "# メジャーな書式\n",
    "def mydecorator(function):\n",
    "    def wrapper(*args,**kwargs):\n",
    "        #実際の関数を呼び出す前の処理\n",
    "        result = function(*args,**kwargs)\n",
    "        #呼び出した後に行う処理\n",
    "        return result\n",
    "    #ラッパーを出コード済み関数として返す\n",
    "    return wrapper"
   ]
  },
  {
   "cell_type": "code",
   "execution_count": 4,
   "metadata": {
    "pycharm": {
     "name": "#%%\n"
    }
   },
   "outputs": [],
   "source": [
    "# デコレータクラスとしての実装\n",
    "class DecoratorAsClass:\n",
    "    def __init__(self,function):\n",
    "        self.function = function\n",
    "    \n",
    "    def __call__(self,*args,**kwargs):\n",
    "        #実際の関数を呼び出す前の処理\n",
    "        result = self.function(*args,**kwargs)\n",
    "        #呼び出した後に行う処理\n",
    "        return result"
   ]
  },
  {
   "cell_type": "code",
   "execution_count": 5,
   "metadata": {
    "pycharm": {
     "name": "#%%\n"
    }
   },
   "outputs": [],
   "source": [
    "# パラメータを受け取るデコレータ\n",
    "def repeat(number= 3):\n",
    "    \"\"\"デコレートされた関数を指定された回数繰り返し，最後に呼ばれた関数の結果を返す\"\"\"\n",
    "    def actual_decorator(function):\n",
    "        def wrapper(*args,**kwargs):\n",
    "            result = None\n",
    "            for _ in range(number):\n",
    "                result = function(*args,**kwargs)\n",
    "            return result\n",
    "        return wrapper\n",
    "    return actual_decorator\n"
   ]
  },
  {
   "cell_type": "code",
   "execution_count": 6,
   "metadata": {
    "pycharm": {
     "name": "#%%\n"
    }
   },
   "outputs": [
    {
     "name": "stdout",
     "output_type": "stream",
     "text": [
      "新型コロナ\n",
      "新型コロナ\n",
      "新型コロナ\n",
      "新型コロナ\n",
      "新型コロナ\n"
     ]
    }
   ],
   "source": [
    "@repeat(5)\n",
    "def foo():\n",
    "    print(\"新型コロナ\")\n",
    "foo()"
   ]
  },
  {
   "cell_type": "code",
   "execution_count": 7,
   "metadata": {
    "pycharm": {
     "name": "#%%\n"
    }
   },
   "outputs": [],
   "source": [
    "# メタ情報を保持するデコレータ\n",
    "from functools import wraps\n",
    "\n",
    "def preserving_decorator(function):\n",
    "    @wraps(function)\n",
    "    def wrapped(*args,**kwargs):\n",
    "        \"\"\"内部のラップ用関数のDoc\"\"\"\n",
    "        return function(*args,**kwargs)\n",
    "    return wrapped\n",
    "\n",
    "@preserving_decorator\n",
    "def function_with_important_dcostring():\n",
    "    \"\"\"重要なDoc\"\"\"\n",
    "    pass\n"
   ]
  },
  {
   "cell_type": "code",
   "execution_count": 8,
   "metadata": {
    "pycharm": {
     "name": "#%%\n"
    }
   },
   "outputs": [
    {
     "data": {
      "text/plain": [
       "'function_with_important_dcostring'"
      ]
     },
     "execution_count": 8,
     "metadata": {},
     "output_type": "execute_result"
    }
   ],
   "source": [
    "function_with_important_dcostring.__name__\n"
   ]
  },
  {
   "cell_type": "code",
   "execution_count": 9,
   "metadata": {
    "pycharm": {
     "name": "#%%\n"
    }
   },
   "outputs": [
    {
     "data": {
      "text/plain": [
       "'重要なDoc'"
      ]
     },
     "execution_count": 9,
     "metadata": {},
     "output_type": "execute_result"
    }
   ],
   "source": [
    "function_with_important_dcostring.__doc__\n"
   ]
  },
  {
   "cell_type": "markdown",
   "metadata": {},
   "source": []
  },
  {
   "cell_type": "code",
   "execution_count": null,
   "metadata": {},
   "outputs": [],
   "source": []
  }
 ],
 "metadata": {
  "kernelspec": {
   "display_name": "PyCharm (MyExercise)",
   "language": "python",
   "name": "pycharm-8dd1b8f8"
  },
  "language_info": {
   "codemirror_mode": {
    "name": "ipython",
    "version": 3
   },
   "file_extension": ".py",
   "mimetype": "text/x-python",
   "name": "python",
   "nbconvert_exporter": "python",
   "pygments_lexer": "ipython3",
   "version": "3.6.8"
  },
  "pycharm": {
   "stem_cell": {
    "cell_type": "raw",
    "source": [],
    "metadata": {
     "collapsed": false
    }
   }
  }
 },
 "nbformat": 4,
 "nbformat_minor": 1
}