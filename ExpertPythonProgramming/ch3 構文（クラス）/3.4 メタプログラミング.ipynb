{
 "cells": [
  {
   "cell_type": "markdown",
   "metadata": {},
   "source": [
    "# メタプログラミング\n",
    "自分自身をデータをデータとして扱うことのできるコンピュータプログラミング\n",
    "\n",
    "実行中に自身へのイントロスペクションを行ったり，コード生成や修正が可能\n",
    "\n",
    "- 関数，クラス，型などの基本要素をその場で作成したり変更する  ex)デコレータ\n",
    "\n",
    "- クラスのインスタンス作成プロセスに干渉する特別なクラスメソッド\n",
    "\n",
    "## 3.4.1 デコレータ"
   ]
  },
  {
   "cell_type": "code",
   "execution_count": 2,
   "metadata": {},
   "outputs": [],
   "source": [
    "def some_decorator(function):\n",
    "    return function\n",
    "    \n",
    "def decorated_function():\n",
    "    pass\n",
    "decorated_function = some_decorator(decorated_function)"
   ]
  },
  {
   "cell_type": "markdown",
   "metadata": {},
   "source": [
    "## 3.4.2 クラスデコレータ\n",
    "関数ではなくクラスを返すことを期待されているデコレ―タ\n",
    "- インスタンスだけでなくクラスも実行時に変更できる\n",
    "- 関数もディスクリプタであるため，ディスクリプタプロトコルの一部としてインスタンスに対する属性のルックアップが行われるときに実際のインスタンスへのバインドが行われるため，実行時にクラスに追加することが可能\n",
    "- 適切に引数が渡されたsuperは，クラス定義のスコープ外でも利用できる\n",
    "- クラス定義に対してデコレータを呼び出すことが出来る\n"
   ]
  },
  {
   "cell_type": "code",
   "execution_count": 8,
   "metadata": {},
   "outputs": [
    {
     "data": {
      "text/plain": [
       "<__main__.Class"
      ]
     },
     "execution_count": 8,
     "metadata": {},
     "output_type": "execute_result"
    }
   ],
   "source": [
    "def short_repr(cls):\n",
    "    cls.__repr__= lambda self: super(cls,self).__repr__()[:15]\n",
    "    return cls\n",
    "@ short_repr\n",
    "class ClassWithRelativelyLoongName:\n",
    "    pass\n",
    "ClassWithRelativelyLoongName()"
   ]
  },
  {
   "cell_type": "code",
   "execution_count": 17,
   "metadata": {},
   "outputs": [],
   "source": [
    "# 動的に作成されるクラスになるので__name__と__doc__属性に影響を与える\n",
    "# mixinクラスデザインの代替になる(少ない労力で多重継承を避けれる)\n",
    "\n",
    "def parametraized_short_repr(max_width=8):\n",
    "    \"\"\"文字列表現を短縮するパラメータ付きデコレータ\"\"\"\n",
    "    def parametarized(cls):\n",
    "        \"\"\"実際のデコレータとして使用される内部ラッパー関数\"\"\"\n",
    "        class ShortlyRepresented(cls):\n",
    "            \"\"\"デコレートされた動作を提供するサブクラス\"\"\"\n",
    "            def __repr__(self):\n",
    "                return super().__repr__()[:max_width]\n",
    "        return ShortlyRepresented\n",
    "    return parametarized\n",
    "\n",
    "@parametraized_short_repr(15)\n",
    "class ClassWithLittleBitLongerName:\n",
    "    pass\n"
   ]
  },
  {
   "cell_type": "code",
   "execution_count": 29,
   "metadata": {},
   "outputs": [
    {
     "data": {
      "text/plain": [
       "__main__.parametraized_short_repr.<locals>.parametarized.<locals>.ShortlyRepresented"
      ]
     },
     "execution_count": 29,
     "metadata": {},
     "output_type": "execute_result"
    }
   ],
   "source": [
    "ClassWithLittleBitLongerName().__class__"
   ]
  },
  {
   "cell_type": "code",
   "execution_count": 28,
   "metadata": {},
   "outputs": [
    {
     "data": {
      "text/plain": [
       "'デコレートされた動作を提供するサブクラス'"
      ]
     },
     "execution_count": 28,
     "metadata": {},
     "output_type": "execute_result"
    }
   ],
   "source": [
    "ClassWithLittleBitLongerName().__doc__"
   ]
  },
  {
   "cell_type": "markdown",
   "metadata": {
    "pycharm": {
     "name": "#%% md\n"
    }
   },
   "source": [
    "## 3.4.3 __new__ メソッドによるインスタンス作成プロセスのオーバーライド\n",
    "newはクラスのインスタンスを生成する責務を持った静的メソッド．initよりも前に呼び出される"
   ]
  },
  {
   "cell_type": "code",
   "execution_count": null,
   "outputs": [],
   "source": [
    "# 通常は，オーバーライドしたnewメソッドの中で，\n",
    "# super.new()のように親クラスを引数付きで呼び出し，\n",
    "# 帰ってきたインスタンスをreturnする前に変更する\n",
    "\n",
    "class InstanceCountingClass:\n",
    "    instance_created = 0\n",
    "    def __new__(cls,*args,**kwargs):\n",
    "        print(\"__new__が呼ばれました：\",cls,args,**kwargs)\n",
    "        instance= super().__new__(cls)\n",
    "        instance.number = cls.instance_created\n",
    "        cls.instance_created += 1\n",
    "        \n",
    "        return instance\n",
    "    \n",
    "    def __init__(self,attribute):\n",
    "        print(\"__init__()が呼ばれました．：\",self,attribute)\n",
    "        self.attribute = attribute\n",
    "        "
   ],
   "metadata": {
    "collapsed": false,
    "pycharm": {
     "name": "#%%\n"
    }
   }
  },
  {
   "cell_type": "code",
   "execution_count": null,
   "outputs": [],
   "source": [
    "instance1 = InstanceCountingClass(\"abc\")"
   ],
   "metadata": {
    "collapsed": false,
    "pycharm": {
     "name": "#%%\n"
    }
   }
  },
  {
   "cell_type": "code",
   "execution_count": null,
   "outputs": [],
   "source": [
    "instance2 = InstanceCountingClass(\"xyz\")"
   ],
   "metadata": {
    "collapsed": false,
    "pycharm": {
     "name": "#%%\n"
    }
   }
  },
  {
   "cell_type": "code",
   "execution_count": null,
   "outputs": [],
   "source": [
    "instance1.number,instance1.instance_created"
   ],
   "metadata": {
    "collapsed": false,
    "pycharm": {
     "name": "#%%\n"
    }
   }
  },
  {
   "cell_type": "code",
   "execution_count": null,
   "outputs": [],
   "source": [
    "instance2.number,instance2.instance_created"
   ],
   "metadata": {
    "collapsed": false,
    "pycharm": {
     "name": "#%%\n"
    }
   }
  },
  {
   "cell_type": "code",
   "execution_count": null,
   "outputs": [],
   "source": [
    "# newメソッドは通常，対象クラスのインスタンスを返すべきだが，他のクラスも返せる\n",
    "# その場合initメソッドの呼び出しはスキップされる\n",
    "# 不変クラスのインスタンスを作成するときに有用\n",
    "\n",
    "class NoneZero(int):\n",
    "    def __new__(cls,value):\n",
    "        return super().__new__(cls,value) if value !=0 else None\n",
    "    def __init__(self,skipped_value):\n",
    "        # この実装部分はスキップされる可能性がある\n",
    "        print(\"__init__が呼ばれました\")\n",
    "        super().__init__()\n",
    "type(NoneZero(0))\n",
    "        "
   ],
   "metadata": {
    "collapsed": false,
    "pycharm": {
     "name": "#%%\n"
    }
   }
  },
  {
   "cell_type": "code",
   "execution_count": null,
   "outputs": [],
   "source": [
    "NoneZero(-3.123)"
   ],
   "metadata": {
    "collapsed": false,
    "pycharm": {
     "name": "#%%\n"
    }
   }
  },
  {
   "cell_type": "markdown",
   "source": [
    "new はinit で不十分なときに使用する\n",
    "\n",
    "不変オブジェクトのインスタンスをinitメソッド内ではすでに作成されており，変更できないため\n",
    "\n"
   ],
   "metadata": {
    "collapsed": false
   }
  },
  {
   "cell_type": "markdown",
   "source": [
    "## 3.4.4 メタクラス\n",
    "メタクラスとは他の型（クラス）を定義する型（クラス） ⇒ オブジェクトのインスタンスを定義するくらすもまたオブジェクト\n",
    "\n",
    "instance <is instance of> class <is instance of> type\n",
    "instance <is inctance of> class <is instance of> metaclass <is SUBCLASS of> type \n",
    "    \n",
    "組み込みのtype()クラスを呼び出すとクラス構文を使ってクラスを作成するのと同等の事が出来る"
   ],
   "metadata": {
    "collapsed": false
   }
  },
  {
   "cell_type": "code",
   "execution_count": null,
   "outputs": [],
   "source": [
    "def method(self):\n",
    "    return 1\n",
    "klass = type(\"MyClass\",(object,),{\"method\":method})\n",
    "\n",
    "instance = klass()\n",
    "instance.method()"
   ],
   "metadata": {
    "collapsed": false,
    "pycharm": {
     "name": "#%%\n"
    }
   }
  },
  {
   "cell_type": "code",
   "execution_count": null,
   "outputs": [],
   "source": [
    "# クラス構文を使うと暗黙的にメタクラスとしてTypeを指定したことになる\n",
    "class ClassWithAMetaClass(metaclass=type):\n",
    "    pass\n",
    "# metaclass引数はTypeクラスと同じ引数を受け取り別のクラスオブジェクトを返せるCallable"
   ],
   "metadata": {
    "collapsed": false,
    "pycharm": {
     "name": "#%%\n"
    }
   }
  },
  {
   "cell_type": "code",
   "execution_count": null,
   "outputs": [],
   "source": [
    "# メタクラス共通のテンプレート\n",
    "\n",
    "class Metaclass(type):\n",
    "    def __new__(mcs,name,bases,namespace):\n",
    "        return super().__name__(mcs,name,bases,namespace)\n",
    "    @classmethod\n",
    "    def __prepare__(mcs,name,bases,**kwargs):\n",
    "        return super().__prepare__(mcs,name,bases,**kwargs)\n",
    "    def __init__(mcs,name,bases,namespace,**kwargs):\n",
    "        super().__init__(name,bases,namespace)\n",
    "    def __call__(cls,+args.**kwargs):\n",
    "        return super().__call__(*arg,**kwargs)"
   ],
   "metadata": {
    "collapsed": false,
    "pycharm": {
     "name": "#%%\n"
    }
   }
  },
  {
   "cell_type": "code",
   "execution_count": 3,
   "metadata": {},
   "outputs": [],
   "source": [
    "# メタクラス共通のテンプレート\n",
    "\n",
    "class Metaclass(type):\n",
    "    def __new__(mcs,name,bases,namespace):\n",
    "        return super().__name__(mcs,name,bases,namespace)\n",
    "    @classmethod\n",
    "    def __prepare__(mcs,name,bases,**kwargs):\n",
    "        return super().__prepare__(mcs,name,bases,**kwargs)\n",
    "    def __init__(mcs,name,bases,namespace,**kwargs):\n",
    "        super().__init__(name,bases,namespace)\n",
    "    def __call__(cls,+args.**kwargs):\n",
    "        return super().__call__(*arg,**kwargs)"
   ]
  },
  {
   "cell_type": "code",
   "execution_count": 4,
   "metadata": {},
   "outputs": [
    {
     "name": "stdout",
     "output_type": "stream",
     "text": [
      "__new__が呼ばれました： <class '__main__.InstanceCountingClass'> ('abc',)\n",
      "__init__()が呼ばれました．： <__main__.InstanceCountingClass object at 0x000002BD65297B70> abc\n"
     ]
    }
   ],
   "source": [
    "instance1 = InstanceCountingClass(\"abc\")"
   ]
  },
  {
   "cell_type": "code",
   "execution_count": 5,
   "metadata": {},
   "outputs": [
    {
     "name": "stdout",
     "output_type": "stream",
     "text": [
      "__new__が呼ばれました： <class '__main__.InstanceCountingClass'> ('xyz',)\n",
      "__init__()が呼ばれました．： <__main__.InstanceCountingClass object at 0x000002BD652972B0> xyz\n"
     ]
    }
   ],
   "source": [
    "instance2 = InstanceCountingClass(\"xyz\")"
   ]
  },
  {
   "cell_type": "code",
   "execution_count": 6,
   "metadata": {},
   "outputs": [
    {
     "data": {
      "text/plain": [
       "(0, 2)"
      ]
     },
     "execution_count": 6,
     "metadata": {},
     "output_type": "execute_result"
    }
   ],
   "source": [
    "instance1.number,instance1.instance_created"
   ]
  },
  {
   "cell_type": "code",
   "execution_count": 7,
   "metadata": {},
   "outputs": [
    {
     "data": {
      "text/plain": [
       "(1, 2)"
      ]
     },
     "execution_count": 7,
     "metadata": {},
     "output_type": "execute_result"
    }
   ],
   "source": [
    "instance2.number,instance2.instance_created"
   ]
  },
  {
   "cell_type": "code",
   "execution_count": 12,
   "metadata": {},
   "outputs": [
    {
     "data": {
      "text/plain": [
       "NoneType"
      ]
     },
     "execution_count": 12,
     "metadata": {},
     "output_type": "execute_result"
    }
   ],
   "source": [
    "# newメソッドは通常，対象クラスのインスタンスを返すべきだが，他のクラスも返せる\n",
    "# その場合initメソッドの呼び出しはスキップされる\n",
    "# 不変クラスのインスタンスを作成するときに有用\n",
    "\n",
    "class NoneZero(int):\n",
    "    def __new__(cls,value):\n",
    "        return super().__new__(cls,value) if value !=0 else None\n",
    "    def __init__(self,skipped_value):\n",
    "        # この実装部分はスキップされる可能性がある\n",
    "        print(\"__init__が呼ばれました\")\n",
    "        super().__init__()\n",
    "type(NoneZero(0))\n",
    "        "
   ]
  },
  {
   "cell_type": "code",
   "execution_count": 13,
   "metadata": {},
   "outputs": [
    {
     "name": "stdout",
     "output_type": "stream",
     "text": [
      "__init__が呼ばれました\n"
     ]
    },
    {
     "data": {
      "text/plain": [
       "-3"
      ]
     },
     "execution_count": 13,
     "metadata": {},
     "output_type": "execute_result"
    }
   ],
   "source": [
    "NoneZero(-3.123)"
   ]
  },
  {
   "cell_type": "markdown",
   "metadata": {},
   "source": [
    "new はinit で不十分なときに使用する\n",
    "\n",
    "不変オブジェクトのインスタンスをinitメソッド内ではすでに作成されており，変更できないため\n",
    "\n"
   ]
  },
  {
   "cell_type": "markdown",
   "metadata": {},
   "source": [
    "## 3.4.4 メタクラス\n",
    "メタクラスとは他の型（クラス）を定義する型（クラス） ⇒ オブジェクトのインスタンスを定義するくらすもまたオブジェクト\n",
    "\n",
    "instance <is instance of> class <is instance of> type\n",
    "instance <is inctance of> class <is instance of> metaclass <is SUBCLASS of> type \n",
    "    \n",
    "組み込みのtype()クラスを呼び出すとクラス構文を使ってクラスを作成するのと同等の事が出来る"
   ]
  },
  {
   "cell_type": "code",
   "execution_count": 14,
   "metadata": {},
   "outputs": [
    {
     "data": {
      "text/plain": [
       "1"
      ]
     },
     "execution_count": 14,
     "metadata": {},
     "output_type": "execute_result"
    }
   ],
   "source": [
    "def method(self):\n",
    "    return 1\n",
    "klass = type(\"MyClass\",(object,),{\"method\":method})\n",
    "\n",
    "instance = klass()\n",
    "instance.method()"
   ]
  },
  {
   "cell_type": "code",
   "execution_count": 15,
   "metadata": {},
   "outputs": [],
   "source": [
    "# クラス構文を使うと暗黙的にメタクラスとしてTypeを指定したことになる\n",
    "class ClassWithAMetaClass(metaclass=type):\n",
    "    pass\n",
    "# metaclass引数はTypeクラスと同じ引数を受け取り別のクラスオブジェクトを返せるCallable"
   ]
  },
  {
   "cell_type": "code",
   "execution_count": 16,
   "metadata": {},
   "outputs": [
    {
     "ename": "SyntaxError",
     "evalue": "invalid syntax (<ipython-input-16-903c7426d7b6>, line 11)",
     "output_type": "error",
     "traceback": [
      "\u001b[1;36m  File \u001b[1;32m\"<ipython-input-16-903c7426d7b6>\"\u001b[1;36m, line \u001b[1;32m11\u001b[0m\n\u001b[1;33m    def __call__(cls,+args.**kwargs):\u001b[0m\n\u001b[1;37m                     ^\u001b[0m\n\u001b[1;31mSyntaxError\u001b[0m\u001b[1;31m:\u001b[0m invalid syntax\n"
     ]
    }
   ],
   "source": [
    "# メタクラス共通のテンプレート\n",
    "\n",
    "class Metaclass(type):\n",
    "    def __new__(mcs,name,bases,namespace):\n",
    "        return super().__name__(mcs,name,bases,namespace)\n",
    "    @classmethod\n",
    "    def __prepare__(mcs,name,bases,**kwargs):\n",
    "        return super().__prepare__(mcs,name,bases,**kwargs)\n",
    "    def __init__(mcs,name,bases,namespace,**kwargs):\n",
    "        super().__init__(name,bases,namespace)\n",
    "    def __call__(cls,+args.**kwargs):\n",
    "        return super().__call__(*arg,**kwargs)"
   ]
  }
 ],
 "metadata": {
  "kernelspec": {
   "display_name": "PyCharm (MyExercise)",
   "language": "python",
   "name": "pycharm-8dd1b8f8"
  },
  "language_info": {
   "codemirror_mode": {
    "name": "ipython",
    "version": 3
   },
   "file_extension": ".py",
   "mimetype": "text/x-python",
   "name": "python",
   "nbconvert_exporter": "python",
   "pygments_lexer": "ipython3",
   "version": "3.6.8"
  },
  "pycharm": {
   "stem_cell": {
    "cell_type": "raw",
    "source": [],
    "metadata": {
     "collapsed": false
    }
   }
  }
 },
 "nbformat": 4,
 "nbformat_minor": 4
}