{
 "cells": [
  {
   "cell_type": "markdown",
   "metadata": {},
   "source": [
    "# メタプログラミング\n",
    "自分自身をデータをデータとして扱うことのできるコンピュータプログラミング\n",
    "\n",
    "実行中に自身へのイントロスペクションを行ったり，コード生成や修正が可能\n",
    "\n",
    "- 関数，クラス，型などの基本要素をその場で作成したり変更する  ex)デコレータ\n",
    "\n",
    "- クラスのインスタンス作成プロセスに干渉する特別なクラスメソッド\n",
    "\n",
    "## 3.4.1 デコレータ"
   ]
  },
  {
   "cell_type": "code",
   "execution_count": 2,
   "metadata": {},
   "outputs": [],
   "source": [
    "def some_decorator(function):\n",
    "    return function\n",
    "    \n",
    "def decorated_function():\n",
    "    pass\n",
    "decorated_function = some_decorator(decorated_function)"
   ]
  },
  {
   "cell_type": "markdown",
   "metadata": {},
   "source": [
    "## 3.4.2 クラスデコレータ\n",
    "関数ではなくクラスを返すことを期待されているデコレ―タ\n",
    "- インスタンスだけでなくクラスも実行時に変更できる\n",
    "- 関数もディスクリプタであるため，ディスクリプタプロトコルの一部としてインスタンスに対する属性のルックアップが行われるときに実際のインスタンスへのバインドが行われるため，実行時にクラスに追加することが可能\n",
    "- 適切に引数が渡されたsuperは，クラス定義のスコープ外でも利用できる\n",
    "- クラス定義に対してデコレータを呼び出すことが出来る\n"
   ]
  },
  {
   "cell_type": "code",
   "execution_count": 8,
   "metadata": {},
   "outputs": [
    {
     "data": {
      "text/plain": [
       "<__main__.Class"
      ]
     },
     "execution_count": 8,
     "metadata": {},
     "output_type": "execute_result"
    }
   ],
   "source": [
    "def short_repr(cls):\n",
    "    cls.__repr__= lambda self: super(cls,self).__repr__()[:15]\n",
    "    return cls\n",
    "@ short_repr\n",
    "class ClassWithRelativelyLoongName:\n",
    "    pass\n",
    "ClassWithRelativelyLoongName()"
   ]
  },
  {
   "cell_type": "code",
   "execution_count": 17,
   "metadata": {},
   "outputs": [],
   "source": [
    "# 動的に作成されるクラスになるので__name__と__doc__属性に影響を与える\n",
    "# mixinクラスデザインの代替になる(少ない労力で多重継承を避けれる)\n",
    "\n",
    "def parametraized_short_repr(max_width=8):\n",
    "    \"\"\"文字列表現を短縮するパラメータ付きデコレータ\"\"\"\n",
    "    def parametarized(cls):\n",
    "        \"\"\"実際のデコレータとして使用される内部ラッパー関数\"\"\"\n",
    "        class ShortlyRepresented(cls):\n",
    "            \"\"\"デコレートされた動作を提供するサブクラス\"\"\"\n",
    "            def __repr__(self):\n",
    "                return super().__repr__()[:max_width]\n",
    "        return ShortlyRepresented\n",
    "    return parametarized\n",
    "\n",
    "@parametraized_short_repr(15)\n",
    "class ClassWithLittleBitLongerName:\n",
    "    pass\n"
   ]
  },
  {
   "cell_type": "code",
   "execution_count": 29,
   "metadata": {},
   "outputs": [
    {
     "data": {
      "text/plain": [
       "__main__.parametraized_short_repr.<locals>.parametarized.<locals>.ShortlyRepresented"
      ]
     },
     "execution_count": 29,
     "metadata": {},
     "output_type": "execute_result"
    }
   ],
   "source": [
    "ClassWithLittleBitLongerName().__class__"
   ]
  },
  {
   "cell_type": "code",
   "execution_count": 28,
   "metadata": {},
   "outputs": [
    {
     "data": {
      "text/plain": [
       "'デコレートされた動作を提供するサブクラス'"
      ]
     },
     "execution_count": 28,
     "metadata": {},
     "output_type": "execute_result"
    }
   ],
   "source": [
    "ClassWithLittleBitLongerName().__doc__"
   ]
  },
  {
   "cell_type": "code",
   "execution_count": null,
   "metadata": {},
   "outputs": [],
   "source": []
  }
 ],
 "metadata": {
  "kernelspec": {
   "display_name": "PyCharm (MyExercise)",
   "language": "python",
   "name": "pycharm-8dd1b8f8"
  },
  "language_info": {
   "codemirror_mode": {
    "name": "ipython",
    "version": 3
   },
   "file_extension": ".py",
   "mimetype": "text/x-python",
   "name": "python",
   "nbconvert_exporter": "python",
   "pygments_lexer": "ipython3",
   "version": "3.6.8"
  }
 },
 "nbformat": 4,
 "nbformat_minor": 4
}
