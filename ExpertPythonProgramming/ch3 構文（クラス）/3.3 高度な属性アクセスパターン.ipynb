{
 "cells": [
  {
   "cell_type": "code",
   "execution_count": 2,
   "metadata": {},
   "outputs": [
    {
     "ename": "AttributeError",
     "evalue": "'MyClass' object has no attribute '__secret_value'",
     "output_type": "error",
     "traceback": [
      "\u001b[1;31m---------------------------------------------------------------------------\u001b[0m",
      "\u001b[1;31mAttributeError\u001b[0m                            Traceback (most recent call last)",
      "\u001b[1;32m<ipython-input-2-5c5b3202adc1>\u001b[0m in \u001b[0;36m<module>\u001b[1;34m\u001b[0m\n\u001b[0;32m      8\u001b[0m \u001b[1;33m\u001b[0m\u001b[0m\n\u001b[0;32m      9\u001b[0m \u001b[0minstance_of\u001b[0m \u001b[1;33m=\u001b[0m \u001b[0mMyClass\u001b[0m\u001b[1;33m(\u001b[0m\u001b[1;33m)\u001b[0m\u001b[1;33m\u001b[0m\u001b[1;33m\u001b[0m\u001b[0m\n\u001b[1;32m---> 10\u001b[1;33m \u001b[0minstance_of\u001b[0m\u001b[1;33m.\u001b[0m\u001b[0m__secret_value\u001b[0m\u001b[1;33m\u001b[0m\u001b[1;33m\u001b[0m\u001b[0m\n\u001b[0m",
      "\u001b[1;31mAttributeError\u001b[0m: 'MyClass' object has no attribute '__secret_value'"
     ]
    }
   ],
   "source": [
    "# 名前マンぐリング\n",
    "# 属性名の頭に __ をつける\n",
    "# 継承時の名前衝突を避ける仕組み\n",
    "# パブリックでないだけの属性の表現には _ を用いる\n",
    "\n",
    "class MyClass:\n",
    "    __secret_value = 1\n",
    "\n",
    "instance_of = MyClass()\n",
    "instance_of.__secret_value"
   ]
  },
  {
   "cell_type": "markdown",
   "metadata": {},
   "source": [
    "# 3.3.1 ディスクリプタ\n",
    "\n",
    "オブジェクトの属性が参照されたときの挙動をカスタマイズできる\n",
    "ディスクリプタプロトコルを構成する4つの特殊メソッド\n",
    "-  __set__() 属性がセットされるときに呼ばれる セッター\n",
    "- __get__()  属性が読み込まれるときに呼ばれる ゲッター\n",
    "- __delete__() 属性に対してDelが実行されたときに呼ばれる\n",
    "- __set_name__() py36から．ディスクプリたが他のクラスに追加されたときに，対象のクラスと属性名を伴って呼ばれる．\n",
    "\n",
    "get,setの含まれるディスクリプタはデータディスクリプタ，getのみの場合は非データディスクプリプタ\n",
    "オブジェクトの持つ特殊なgetattribute()メソッドが属性を参照するときにこれらのプロトコルを呼び出す．\n"
   ]
  },
  {
   "cell_type": "code",
   "execution_count": 6,
   "metadata": {},
   "outputs": [
    {
     "name": "stdout",
     "output_type": "stream",
     "text": [
      "取得： 変数 x\n"
     ]
    },
    {
     "data": {
      "text/plain": [
       "10"
      ]
     },
     "execution_count": 6,
     "metadata": {},
     "output_type": "execute_result"
    }
   ],
   "source": [
    "class RevealAccess(object):\n",
    "    \"\"\"通常と同じようにデータの設定とアクセスを行うが，アクセスされたログメッセージを残すデータディスクリプタ\"\"\"\n",
    "    def __init__(self,initval=None,name = \"var\"):\n",
    "        self.val= initval\n",
    "        self.name = name\n",
    "    def __get__(self,obj,objtype):\n",
    "        print(\"取得：\",self.name)\n",
    "        return self.val\n",
    "    def __set__(self,obj,val):\n",
    "        print(\"更新：\",self.name)\n",
    "        self.val = val\n",
    "class MyClass(object):\n",
    "    x = RevealAccess(10,\"変数 x\")\n",
    "    y = 5\n",
    "\n",
    "# インスタンス属性が取得されると常に__get__が呼び出される\n",
    "# 値を設定する時にはSetが呼び出される\n",
    "m = MyClass()\n",
    "m.x"
   ]
  },
  {
   "cell_type": "code",
   "execution_count": 8,
   "metadata": {},
   "outputs": [
    {
     "name": "stdout",
     "output_type": "stream",
     "text": [
      "更新： 変数 x\n",
      "取得： 変数 x\n"
     ]
    },
    {
     "data": {
      "text/plain": [
       "20"
      ]
     },
     "execution_count": 8,
     "metadata": {},
     "output_type": "execute_result"
    }
   ],
   "source": [
    "m.x = 20\n",
    "m.x"
   ]
  },
  {
   "cell_type": "code",
   "execution_count": 9,
   "metadata": {},
   "outputs": [
    {
     "data": {
      "text/plain": [
       "5"
      ]
     },
     "execution_count": 9,
     "metadata": {},
     "output_type": "execute_result"
    }
   ],
   "source": [
    "m.y"
   ]
  },
  {
   "cell_type": "code",
   "execution_count": 11,
   "metadata": {},
   "outputs": [
    {
     "name": "stdout",
     "output_type": "stream",
     "text": [
      "True\n",
      "False\n"
     ]
    }
   ],
   "source": [
    "def function():pass\n",
    "print(hasattr(function,\"__get__\"))\n",
    "print(hasattr(function,\"__set__\"))"
   ]
  },
  {
   "cell_type": "code",
   "execution_count": 14,
   "metadata": {},
   "outputs": [],
   "source": [
    "# 現実世界のサンプル - 属性の遅延評価\n",
    "class InitOnAccess:\n",
    "    def __init__(self,klass,*args,**kwargs):\n",
    "        self.klass= klass\n",
    "        self.args = args\n",
    "        self.kwargs = kwargs\n",
    "        self._initialized = None\n",
    "        \n",
    "    def __get__(self,instance,owner):\n",
    "        if self._initialized is None:\n",
    "            print(\"初期化\")\n",
    "            self._initialized =self.klass(*self.args,**self.kwargs)\n",
    "        else :\n",
    "            print(\"キャッシュ済み\")\n",
    "        return self._initialized"
   ]
  },
  {
   "cell_type": "code",
   "execution_count": 15,
   "metadata": {},
   "outputs": [
    {
     "name": "stdout",
     "output_type": "stream",
     "text": [
      "初期化\n"
     ]
    },
    {
     "data": {
      "text/plain": [
       "['a', 'r', 'g', 'm', 'e', 'n', 't']"
      ]
     },
     "execution_count": 15,
     "metadata": {},
     "output_type": "execute_result"
    }
   ],
   "source": [
    "class MyClass:\n",
    "    laizy_initialized = InitOnAccess(list,\"argment\")\n",
    "\n",
    "m = MyClass()\n",
    "m.laizy_initialized\n",
    "    "
   ]
  },
  {
   "cell_type": "code",
   "execution_count": 16,
   "metadata": {},
   "outputs": [
    {
     "name": "stdout",
     "output_type": "stream",
     "text": [
      "キャッシュ済み\n"
     ]
    },
    {
     "data": {
      "text/plain": [
       "['a', 'r', 'g', 'm', 'e', 'n', 't']"
      ]
     },
     "execution_count": 16,
     "metadata": {},
     "output_type": "execute_result"
    }
   ],
   "source": [
    "m.laizy_initialized\n"
   ]
  },
  {
   "cell_type": "code",
   "execution_count": 17,
   "metadata": {},
   "outputs": [],
   "source": [
    "# デコレータかつデータディスクリプタ\n",
    "# 一度しか実行されず，実行後は関数の返り値で暮らす属性が書き換えられる．\n",
    "# オブジェクトの初期化がグローバルなアプリケーションの状態や文脈に依存するために\n",
    "# import 時に初期化できない要求を満たすことが出来る．\n",
    "class lazy_property(object):\n",
    "    def __init__(self,function):\n",
    "        self.fget = function\n",
    "    def __get__(self,obj,cls):\n",
    "        value = self.fget(obj)\n",
    "        setattr(obj,self.fget.__name__,value)\n",
    "        return value\n",
    "    \n",
    "    "
   ]
  },
  {
   "cell_type": "code",
   "execution_count": 19,
   "metadata": {},
   "outputs": [
    {
     "name": "stdout",
     "output_type": "stream",
     "text": [
      "First access to attribute at instance level\n",
      "Evaluation of a method!\n",
      "instance.evaluated_only_once = 2646700 \n",
      "\n",
      "Next access to attribute at instance level\n",
      "instance.evaluated_only_once = 2646700 \n",
      "\n",
      "Access to attribute at class level\n",
      "MyComplexClass.evaluated_only_once = 2646700 \n",
      "\n",
      "Access to attribute from completely new instance\n",
      "MyComplexClass().evaluated_only_once = 2646700 \n",
      "\n"
     ]
    }
   ],
   "source": [
    "class lazy_class_attribute(object):\n",
    "    def __init__(self, function):\n",
    "        self.fget = function\n",
    "\n",
    "    def __get__(self, obj, cls):\n",
    "        value = self.fget(obj or cls)\n",
    "        # note: storing in class object not its instance\n",
    "        #       no matter if its a class-level or\n",
    "        #       instance-level access\n",
    "        setattr(cls, self.fget.__name__, value)\n",
    "        return value\n",
    "\n",
    "\n",
    "class MyComplexClass:\n",
    "\n",
    "    @lazy_class_attribute\n",
    "    def evaluated_only_once(self):\n",
    "        print(\"Evaluation of a method!\")\n",
    "        return sum(x ** 2 for x in range(200))\n",
    "\n",
    "\n",
    "instance = MyComplexClass()\n",
    "\n",
    "print(\"First access to attribute at instance level\")\n",
    "print(\"instance.evaluated_only_once =\",\n",
    "      instance.evaluated_only_once,\n",
    "      '\\n')\n",
    "\n",
    "print(\"Next access to attribute at instance level\")\n",
    "print(\"instance.evaluated_only_once =\",\n",
    "      instance.evaluated_only_once,\n",
    "      '\\n')\n",
    "\n",
    "print(\"Access to attribute at class level\")\n",
    "print(\"MyComplexClass.evaluated_only_once =\",\n",
    "      MyComplexClass.evaluated_only_once,\n",
    "      '\\n')\n",
    "\n",
    "print(\"Access to attribute from completely new instance\")\n",
    "print(\"MyComplexClass().evaluated_only_once =\",\n",
    "      MyComplexClass().evaluated_only_once,\n",
    "      '\\n')"
   ]
  },
  {
   "cell_type": "markdown",
   "metadata": {},
   "source": [
    "## 3.3.2 プロパティ\n",
    " 属性 と それを処理するメソッドをリンクさせる組み込みディスクリプタ型を提供する\n",
    " \n",
    " fget引数とfset,fdel,docのオプション引数をとる\n",
    " \n",
    " 簡単にディスクリプタをかけるが，継承時には注意が必要\n"
   ]
  },
  {
   "cell_type": "code",
   "execution_count": 34,
   "metadata": {},
   "outputs": [
    {
     "data": {
      "text/plain": [
       "(15, 24)"
      ]
     },
     "execution_count": 34,
     "metadata": {},
     "output_type": "execute_result"
    }
   ],
   "source": [
    "# メンテナンスの面でPropertyはデコレータとして利用するのが吉\n",
    "# function.setter \n",
    "\n",
    "class Rectangle:\n",
    "    def __init__(self,x1,y1,x2,y2):\n",
    "        self.x1,self.y1 = x1,y1\n",
    "        self.x2,self.y2 = x2,y2\n",
    "    \n",
    "    # widthをプロパティでデコレーション\n",
    "    # widthのgetプロパティ\n",
    "    @property\n",
    "    def width(self):\n",
    "        \"\"\"左辺から測定した短形の幅\"\"\"\n",
    "        return self.x2 - self.x1\n",
    "    \n",
    "    # widthのsetプロパティでデコレーション\n",
    "    @width.setter\n",
    "    def width(self,value):\n",
    "        self.x2 = self.x1 + value\n",
    "    \n",
    "    @property\n",
    "    def height(self):\n",
    "        \"\"\"上辺から測定した短形の幅\"\"\"\n",
    "        return self.y2 - self.y1\n",
    "    \n",
    "    @height.setter\n",
    "    def height(self,value):\n",
    "        self.y2 = self.y1 + value\n",
    "    \n",
    "    def __repr__(self):\n",
    "        return \"{}({},{},{},{})\".format(self.__class__.__name__,self.x1,self.y1,self.x2,self.y2)\n",
    "\n",
    "rectangle = Rectangle(10,10,25,34)\n",
    "rectangle.width,rectangle.height"
   ]
  },
  {
   "cell_type": "code",
   "execution_count": 35,
   "metadata": {},
   "outputs": [
    {
     "data": {
      "text/plain": [
       "Rectangle(10,10,110,34)"
      ]
     },
     "execution_count": 35,
     "metadata": {},
     "output_type": "execute_result"
    }
   ],
   "source": [
    "rectangle.width = 100\n",
    "rectangle"
   ]
  },
  {
   "cell_type": "code",
   "execution_count": 36,
   "metadata": {},
   "outputs": [
    {
     "name": "stdout",
     "output_type": "stream",
     "text": [
      "Help on Rectangle in module __main__ object:\n",
      "\n",
      "class Rectangle(builtins.object)\n",
      " |  Methods defined here:\n",
      " |  \n",
      " |  __init__(self, x1, y1, x2, y2)\n",
      " |      Initialize self.  See help(type(self)) for accurate signature.\n",
      " |  \n",
      " |  __repr__(self)\n",
      " |      Return repr(self).\n",
      " |  \n",
      " |  ----------------------------------------------------------------------\n",
      " |  Data descriptors defined here:\n",
      " |  \n",
      " |  __dict__\n",
      " |      dictionary for instance variables (if defined)\n",
      " |  \n",
      " |  __weakref__\n",
      " |      list of weak references to the object (if defined)\n",
      " |  \n",
      " |  height\n",
      " |      上辺から測定した短形の幅\n",
      " |  \n",
      " |  width\n",
      " |      左辺から測定した短形の幅\n",
      "\n"
     ]
    }
   ],
   "source": [
    "help(rectangle)"
   ]
  },
  {
   "cell_type": "markdown",
   "source": [
    "# 3.3.3 スロット\n",
    "__slots__という名前で属性名のリストをセットすることでクラスをインスタンス化するときに__dict__が生成されなくなる\n",
    "\n",
    "属性が少ないクラスにおいて，すべてのインスタンスで__dict__を作らないことで，メモリ消費を節約できる"
   ],
   "metadata": {
    "collapsed": false
   }
  },
  {
   "cell_type": "code",
   "execution_count": null,
   "outputs": [],
   "source": [
    "class Frozen:\n",
    "    __slots__=[\"Ice\",\"Cream\"]\n",
    "\"__dict__\"in dir(Frozen)"
   ],
   "metadata": {
    "collapsed": false,
    "pycharm": {
     "name": "#%%\n"
    }
   }
  },
  {
   "cell_type": "code",
   "execution_count": null,
   "outputs": [],
   "source": [
    "\"Ice\"in dir(Frozen)"
   ],
   "metadata": {
    "collapsed": false,
    "pycharm": {
     "name": "#%%\n"
    }
   }
  },
  {
   "cell_type": "code",
   "execution_count": null,
   "outputs": [],
   "source": [
    "frozen = Frozen()\n",
    "frozen.Ice = True"
   ],
   "metadata": {
    "collapsed": false,
    "pycharm": {
     "name": "#%%\n"
    }
   }
  },
  {
   "cell_type": "code",
   "execution_count": null,
   "outputs": [],
   "source": [
    "# 動的に追加できないよ\n",
    "frozen.Icy=True"
   ],
   "metadata": {
    "collapsed": false,
    "pycharm": {
     "name": "#%%\n"
    }
   }
  },
  {
   "cell_type": "markdown",
   "metadata": {},
   "source": []
  },
  {
   "cell_type": "code",
   "execution_count": 51,
   "metadata": {},
   "outputs": [
    {
     "data": {
      "text/plain": [
       "False"
      ]
     },
     "execution_count": 51,
     "metadata": {},
     "output_type": "execute_result"
    }
   ],
   "source": [
    "class Frozen:\n",
    "    __slots__=[\"Ice\",\"Cream\"]\n",
    "\"__dict__\"in dir(Frozen)"
   ]
  },
  {
   "cell_type": "code",
   "execution_count": 52,
   "metadata": {},
   "outputs": [
    {
     "data": {
      "text/plain": [
       "True"
      ]
     },
     "execution_count": 52,
     "metadata": {},
     "output_type": "execute_result"
    }
   ],
   "source": [
    "\"Ice\"in dir(Frozen)"
   ]
  },
  {
   "cell_type": "code",
   "execution_count": 53,
   "metadata": {},
   "outputs": [],
   "source": [
    "frozen = Frozen()\n",
    "frozen.Ice = True"
   ]
  },
  {
   "cell_type": "code",
   "execution_count": 55,
   "metadata": {},
   "outputs": [
    {
     "ename": "AttributeError",
     "evalue": "'Frozen' object has no attribute 'Icy'",
     "output_type": "error",
     "traceback": [
      "\u001b[1;31m---------------------------------------------------------------------------\u001b[0m",
      "\u001b[1;31mAttributeError\u001b[0m                            Traceback (most recent call last)",
      "\u001b[1;32m<ipython-input-55-311a96a5e48b>\u001b[0m in \u001b[0;36m<module>\u001b[1;34m\u001b[0m\n\u001b[0;32m      1\u001b[0m \u001b[1;31m# 動的に追加できないよ\u001b[0m\u001b[1;33m\u001b[0m\u001b[1;33m\u001b[0m\u001b[1;33m\u001b[0m\u001b[0m\n\u001b[1;32m----> 2\u001b[1;33m \u001b[0mfrozen\u001b[0m\u001b[1;33m.\u001b[0m\u001b[0mIcy\u001b[0m\u001b[1;33m=\u001b[0m\u001b[1;32mTrue\u001b[0m\u001b[1;33m\u001b[0m\u001b[1;33m\u001b[0m\u001b[0m\n\u001b[0m",
      "\u001b[1;31mAttributeError\u001b[0m: 'Frozen' object has no attribute 'Icy'"
     ]
    }
   ],
   "source": [
    "# 動的に追加できないよ\n",
    "frozen.Icy=True"
   ]
  },
  {
   "cell_type": "code",
   "execution_count": null,
   "metadata": {},
   "outputs": [],
   "source": []
  }
 ],
 "metadata": {
  "kernelspec": {
   "display_name": "Python 3",
   "language": "python",
   "name": "python3"
  },
  "language_info": {
   "codemirror_mode": {
    "name": "ipython",
    "version": 3
   },
   "file_extension": ".py",
   "mimetype": "text/x-python",
   "name": "python",
   "nbconvert_exporter": "python",
   "pygments_lexer": "ipython3",
   "version": "3.6.8"
  },
  "pycharm": {
   "stem_cell": {
    "cell_type": "raw",
    "source": [],
    "metadata": {
     "collapsed": false
    }
   }
  }
 },
 "nbformat": 4,
 "nbformat_minor": 1
}