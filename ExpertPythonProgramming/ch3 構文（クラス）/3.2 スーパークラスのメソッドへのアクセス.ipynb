{
 "cells": [
  {
   "cell_type": "code",
   "execution_count": 4,
   "metadata": {},
   "outputs": [
    {
     "name": "stdout",
     "output_type": "stream",
     "text": [
      "<class 'super'>\n"
     ]
    }
   ],
   "source": [
    "print(super)"
   ]
  },
  {
   "cell_type": "code",
   "execution_count": 16,
   "metadata": {},
   "outputs": [],
   "source": [
    "# 古い方法\n",
    "class Mama:\n",
    "    def says(self):\n",
    "        print(\"Do your homework!!\")\n",
    "\n",
    "class Sister(Mama):\n",
    "    def says(self):\n",
    "        Mama.says(self)\n",
    "        print(\"And, clean up your room!!\")"
   ]
  },
  {
   "cell_type": "code",
   "execution_count": 17,
   "metadata": {},
   "outputs": [
    {
     "name": "stdout",
     "output_type": "stream",
     "text": [
      "Do your homework!!\n",
      "And, clean up your room!!\n"
     ]
    }
   ],
   "source": [
    "Sister().says()"
   ]
  },
  {
   "cell_type": "code",
   "execution_count": 19,
   "metadata": {},
   "outputs": [],
   "source": [
    "class Sister(Mama):\n",
    "    def says(self):\n",
    "        super(Sister,self).says()\n",
    "        print(\"And, clean up your room!!\")"
   ]
  },
  {
   "cell_type": "code",
   "execution_count": 20,
   "metadata": {},
   "outputs": [
    {
     "name": "stdout",
     "output_type": "stream",
     "text": [
      "Do your homework!!\n",
      "And, clean up your room!!\n"
     ]
    }
   ],
   "source": [
    "Sister().says()"
   ]
  },
  {
   "cell_type": "code",
   "execution_count": 21,
   "metadata": {},
   "outputs": [],
   "source": [
    "class Sister(Mama):\n",
    "    def says(self):\n",
    "        super().says()# 省略形\n",
    "        print(\"And, clean up your room!!\")"
   ]
  },
  {
   "cell_type": "code",
   "execution_count": 22,
   "metadata": {},
   "outputs": [
    {
     "name": "stdout",
     "output_type": "stream",
     "text": [
      "Do your homework!!\n",
      "And, clean up your room!!\n"
     ]
    }
   ],
   "source": [
    "Sister().says()"
   ]
  },
  {
   "cell_type": "code",
   "execution_count": 23,
   "metadata": {},
   "outputs": [
    {
     "name": "stdout",
     "output_type": "stream",
     "text": [
      "Do your homework!!\n"
     ]
    }
   ],
   "source": [
    "# メソッドの外で使うときは引数が必要\n",
    "anita = Sister()\n",
    "super(anita.__class__,anita).says()\n",
    "## super 二つ目の引数を省略するとインスタンスに束縛されていない型を返す"
   ]
  },
  {
   "cell_type": "code",
   "execution_count": 35,
   "metadata": {},
   "outputs": [],
   "source": [
    "# 引数なしの場合でもclassmemethodsデコレータのついたメソッドから利用できる\n",
    "class Pizza:\n",
    "    def __init__(self,toppings):\n",
    "        self.toppings = toppings\n",
    "        \n",
    "    # クラスの有効な出力結果を返す特殊メソッド\n",
    "    def __repr__(self):\n",
    "        return \"と\".join(self.toppings)+\"がトッピングされたピザ\"\n",
    "    \n",
    "    @classmethod\n",
    "    def recommend(cls):\n",
    "        \"\"\"いくつかのトッピングが乗せられたオス勧めピザの紹介\"\"\"\n",
    "        return cls([\"スパム\",\"ハム\",\"卵\"])\n",
    "\n",
    "class VikingPizza(Pizza):\n",
    "    @classmethod\n",
    "    def recommend(cls):\n",
    "        \"\"\"親クラスと同じようなお勧めピザだが，ハラペーニョ大量に追加\"\"\"\n",
    "        recommended = super().recommend()\n",
    "        recommended.toppings += [\"ハラペーニョ\"]*5\n",
    "        return recommended\n",
    "    \n",
    "        \n",
    "    "
   ]
  },
  {
   "cell_type": "code",
   "execution_count": 36,
   "metadata": {},
   "outputs": [
    {
     "name": "stdout",
     "output_type": "stream",
     "text": [
      "スパムとハムと卵がトッピングされたピザ\n",
      "スパムとハムと卵とハラペーニョとハラペーニョとハラペーニョとハラペーニョとハラペーニョがトッピングされたピザ\n"
     ]
    }
   ],
   "source": [
    "print(Pizza.recommend())\n",
    "print(VikingPizza.recommend())"
   ]
  },
  {
   "cell_type": "markdown",
   "metadata": {},
   "source": [
    "\n",
    "## 3.2.1 旧クラスとPython2 のsuper\n",
    "- Pyhton2 ではsuperは引数なしでは使え無い\n",
    "- クラスは明示的にobject や親クラスを引数とした場合に新スタイルクラスとなる\n",
    "\n",
    "## 3.2.2 Pythonのメソッド解決順序（MRO）\n",
    "- Python2 は深さ有線探索．もっとも古いクラスのメソッドを継承することに\n",
    "- Python3 ⇒ C3 線形化アルゴリズム\n",
    "- それぞれの基底クラスに対して深さ方向への再帰的な探索を行い，クラスが複数のリストに含まれている場合は左方優先のルールにのっとる．\n"
   ]
  },
  {
   "cell_type": "code",
   "execution_count": 38,
   "metadata": {},
   "outputs": [
    {
     "name": "stdout",
     "output_type": "stream",
     "text": [
      "Base2\n"
     ]
    }
   ],
   "source": [
    "class CommonBase:\n",
    "    def method(self):\n",
    "        print(\"CommonBase\")\n",
    "class Base1(CommonBase):\n",
    "    pass\n",
    "class Base2(CommonBase):\n",
    "    def method(self):\n",
    "        print(\"Base2\")\n",
    "class MyClass(Base1,Base2):\n",
    "    pass\n",
    "\n",
    "MyClass().method()"
   ]
  },
  {
   "cell_type": "code",
   "execution_count": 40,
   "metadata": {},
   "outputs": [
    {
     "data": {
      "text/plain": [
       "['MyClass', 'Base1', 'Base2', 'CommonBase', 'object']"
      ]
     },
     "execution_count": 40,
     "metadata": {},
     "output_type": "execute_result"
    }
   ],
   "source": [
    "def L(some_class):\n",
    "    return [k.__name__ for k in some_class.__mro__]\n",
    "L(MyClass)"
   ]
  },
  {
   "cell_type": "markdown",
   "metadata": {},
   "source": [
    "## 3.3.3 superの落とし穴\n",
    "基底クラスの__init__ が暗黙的に呼び出されない"
   ]
  },
  {
   "cell_type": "code",
   "execution_count": 57,
   "metadata": {},
   "outputs": [
    {
     "name": "stdout",
     "output_type": "stream",
     "text": [
      "MRO ['C', 'A', 'B', 'object']\n"
     ]
    }
   ],
   "source": [
    "# 従来の呼び出しとの混在\n",
    "\n",
    "class A :\n",
    "    def __init__(self):\n",
    "        print(\"A\",end=\" \")\n",
    "        super().__init__()\n",
    "class B:\n",
    "    def __init__(self):\n",
    "        print(\"B\",end=\" \")\n",
    "        super().__init__()\n",
    "        \n",
    "class C(A,B):\n",
    "    def __init__(self):\n",
    "        print(\"C\",end=\" \")\n",
    "        A.__init__(self)\n",
    "        B.__init__(self)\n",
    "\n",
    "# 解決方法 全てのクラス階層でsuper を用いる．\n",
    "# MRO 順に 親から子へSuper が連鎖して一度の初期ですむ C ⇒ A ⇒ B \n",
    "# ソースコード調べるのが大事\n",
    "#         super(C,self).__init__()\n",
    "\n",
    "print(\"MRO\",[x.__name__ for x in C.__mro__])"
   ]
  },
  {
   "cell_type": "code",
   "execution_count": 58,
   "metadata": {},
   "outputs": [
    {
     "name": "stdout",
     "output_type": "stream",
     "text": [
      "C A B "
     ]
    },
    {
     "data": {
      "text/plain": [
       "<__main__.C at 0x295569b7c50>"
      ]
     },
     "execution_count": 58,
     "metadata": {},
     "output_type": "execute_result"
    }
   ],
   "source": [
    "\"\"\"\n",
    "A.__init__(self)で呼び出されるクラスAの初期化のSuperでMRO一つ右Bのinitが行われている\n",
    "B.__init__(self)も含め二回初期化が行われている\n",
    "\"\"\"\n",
    "C()"
   ]
  },
  {
   "cell_type": "code",
   "execution_count": 68,
   "metadata": {},
   "outputs": [
    {
     "name": "stdout",
     "output_type": "stream",
     "text": [
      "MyClass\n"
     ]
    },
    {
     "ename": "TypeError",
     "evalue": "__init__() takes 1 positional argument but 2 were given",
     "output_type": "error",
     "traceback": [
      "\u001b[1;31m---------------------------------------------------------------------------\u001b[0m",
      "\u001b[1;31mTypeError\u001b[0m                                 Traceback (most recent call last)",
      "\u001b[1;32m<ipython-input-68-e471fbea782f>\u001b[0m in \u001b[0;36m<module>\u001b[1;34m\u001b[0m\n\u001b[0;32m     23\u001b[0m         \u001b[0msuper\u001b[0m\u001b[1;33m(\u001b[0m\u001b[1;33m)\u001b[0m\u001b[1;33m.\u001b[0m\u001b[0m__init__\u001b[0m\u001b[1;33m(\u001b[0m\u001b[0marg\u001b[0m\u001b[1;33m)\u001b[0m\u001b[1;33m\u001b[0m\u001b[1;33m\u001b[0m\u001b[0m\n\u001b[0;32m     24\u001b[0m \u001b[1;33m\u001b[0m\u001b[0m\n\u001b[1;32m---> 25\u001b[1;33m \u001b[0mMyClass\u001b[0m\u001b[1;33m(\u001b[0m\u001b[1;36m10\u001b[0m\u001b[1;33m)\u001b[0m\u001b[1;33m\u001b[0m\u001b[1;33m\u001b[0m\u001b[0m\n\u001b[0m",
      "\u001b[1;32m<ipython-input-68-e471fbea782f>\u001b[0m in \u001b[0;36m__init__\u001b[1;34m(self, arg)\u001b[0m\n\u001b[0;32m     21\u001b[0m     \u001b[1;32mdef\u001b[0m \u001b[0m__init__\u001b[0m\u001b[1;33m(\u001b[0m\u001b[0mself\u001b[0m\u001b[1;33m,\u001b[0m\u001b[0marg\u001b[0m\u001b[1;33m)\u001b[0m\u001b[1;33m:\u001b[0m\u001b[1;33m\u001b[0m\u001b[1;33m\u001b[0m\u001b[0m\n\u001b[0;32m     22\u001b[0m         \u001b[0mprint\u001b[0m\u001b[1;33m(\u001b[0m\u001b[1;34m\"MyClass\"\u001b[0m\u001b[1;33m)\u001b[0m\u001b[1;33m\u001b[0m\u001b[1;33m\u001b[0m\u001b[0m\n\u001b[1;32m---> 23\u001b[1;33m         \u001b[0msuper\u001b[0m\u001b[1;33m(\u001b[0m\u001b[1;33m)\u001b[0m\u001b[1;33m.\u001b[0m\u001b[0m__init__\u001b[0m\u001b[1;33m(\u001b[0m\u001b[0marg\u001b[0m\u001b[1;33m)\u001b[0m\u001b[1;33m\u001b[0m\u001b[1;33m\u001b[0m\u001b[0m\n\u001b[0m\u001b[0;32m     24\u001b[0m \u001b[1;33m\u001b[0m\u001b[0m\n\u001b[0;32m     25\u001b[0m \u001b[0mMyClass\u001b[0m\u001b[1;33m(\u001b[0m\u001b[1;36m10\u001b[0m\u001b[1;33m)\u001b[0m\u001b[1;33m\u001b[0m\u001b[1;33m\u001b[0m\u001b[0m\n",
      "\u001b[1;31mTypeError\u001b[0m: __init__() takes 1 positional argument but 2 were given"
     ]
    }
   ],
   "source": [
    "# 親クラスと異なる引数定義の存在\n",
    "# 初期化での引数渡し\n",
    "# 親クラスの__init__()のシグネチャと位置しないためTypeError\n",
    "\n",
    "class CommonBase:\n",
    "    def __init__(self):\n",
    "        print(\"CommonBase\")\n",
    "        super().__init__()\n",
    "\n",
    "class Base1(CommonBase):\n",
    "    def __init__(self):\n",
    "        print(\"Base1\")\n",
    "        super().__init__()\n",
    " \n",
    "class Base2(CommonBase):\n",
    "    def __init__(self,arg):\n",
    "        print(\"Base2\")\n",
    "        super().__init__()\n",
    "\n",
    "class MyClass(Base1,Base2):\n",
    "    def __init__(self,arg):\n",
    "        print(\"MyClass\")\n",
    "        super().__init__(arg)\n",
    "\n",
    "MyClass(10)"
   ]
  },
  {
   "cell_type": "code",
   "execution_count": 70,
   "metadata": {},
   "outputs": [
    {
     "name": "stdout",
     "output_type": "stream",
     "text": [
      "MyClass\n",
      "Base1\n",
      "Base2\n",
      "CommonBase\n"
     ]
    },
    {
     "data": {
      "text/plain": [
       "<__main__.MyClass at 0x2955704f668>"
      ]
     },
     "execution_count": 70,
     "metadata": {},
     "output_type": "execute_result"
    }
   ],
   "source": [
    "# 魔法の *arg,**kwargをすべてのコンストラクタに適用する\n",
    "# ただしコードが脆弱になる\n",
    "\n",
    "\n",
    "class CommonBase:\n",
    "    def __init__(self,*arg,**kwarg):\n",
    "        print(\"CommonBase\")\n",
    "        super().__init__()\n",
    "\n",
    "class Base1(CommonBase):\n",
    "    def __init__(self,*arg,**kwarg):\n",
    "        print(\"Base1\")\n",
    "        super().__init__(*arg,**kwarg)\n",
    " \n",
    "class Base2(CommonBase):\n",
    "    def __init__(self,*arg,**kwarg):\n",
    "        print(\"Base2\")\n",
    "        super().__init__(*arg,**kwarg)\n",
    "\n",
    "class MyClass(Base1,Base2):\n",
    "    def __init__(self,arg):\n",
    "        print(\"MyClass\")\n",
    "        super().__init__(arg)\n",
    "\n",
    "MyClass(10)"
   ]
  },
  {
   "cell_type": "markdown",
   "metadata": {},
   "source": [
    "# 3.2.4 ベストプラクティス\n",
    "## 1. 多重継承を避ける\n",
    "## 2. Super の使用に一貫性を持たせる\n",
    "## 3. Python2 もターゲットにするときはObjectも明示的に継承する \n",
    "## 4. 親クラスを呼ぶときはクラス階層を確認する（MRO）"
   ]
  },
  {
   "cell_type": "code",
   "execution_count": null,
   "metadata": {},
   "outputs": [],
   "source": []
  }
 ],
 "metadata": {
  "kernelspec": {
   "display_name": "PyCharm (MyExercise)",
   "language": "python",
   "name": "pycharm-8dd1b8f8"
  },
  "language_info": {
   "codemirror_mode": {
    "name": "ipython",
    "version": 3
   },
   "file_extension": ".py",
   "mimetype": "text/x-python",
   "name": "python",
   "nbconvert_exporter": "python",
   "pygments_lexer": "ipython3",
   "version": "3.6.8"
  }
 },
 "nbformat": 4,
 "nbformat_minor": 4
}
