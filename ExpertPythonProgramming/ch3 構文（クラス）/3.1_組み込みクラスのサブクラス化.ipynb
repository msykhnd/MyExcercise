{
 "cells": [
  {
   "cell_type": "code",
   "execution_count": 9,
   "metadata": {
    "pycharm": {
     "name": "#%%"
    }
   },
   "outputs": [],
   "source": [
    "class DistinctError(ValueError):\n",
    "    \"\"\"distinctdictに重複した値を追加したときに上がる例外\"\"\"\n",
    "    pass\n",
    "class distinctdist(dict):\n",
    "    \"\"\"重複した値が登録できない辞書\"\"\"\n",
    "    def __setitem__(self, key, value):\n",
    "        if value in self.values():\n",
    "            if(\n",
    "              (key in self and self[key] != value)  or key not in self\n",
    "            ):\n",
    "                raise DistinctError(\n",
    "                    \"この値は既に別の値で登録されています\"\n",
    "                )\n",
    "        super().__setitem__(key,value)"
   ]
  },
  {
   "cell_type": "code",
   "execution_count": 10,
   "metadata": {
    "pycharm": {
     "name": "#%%\n"
    }
   },
   "outputs": [
    {
     "ename": "DistinctError",
     "evalue": "この値は既に別の値で登録されています",
     "output_type": "error",
     "traceback": [
      "\u001b[1;31m---------------------------------------------------------------------------\u001b[0m",
      "\u001b[1;31mDistinctError\u001b[0m                             Traceback (most recent call last)",
      "\u001b[1;32m<ipython-input-10-fd8a44e0ff09>\u001b[0m in \u001b[0;36m<module>\u001b[1;34m\u001b[0m\n\u001b[0;32m      1\u001b[0m \u001b[0mmy\u001b[0m \u001b[1;33m=\u001b[0m \u001b[0mdistinctdist\u001b[0m\u001b[1;33m(\u001b[0m\u001b[1;33m)\u001b[0m\u001b[1;33m\u001b[0m\u001b[1;33m\u001b[0m\u001b[0m\n\u001b[0;32m      2\u001b[0m \u001b[0mmy\u001b[0m\u001b[1;33m[\u001b[0m\u001b[1;34m\"キー\"\u001b[0m\u001b[1;33m]\u001b[0m \u001b[1;33m=\u001b[0m\u001b[1;34m\"値\"\u001b[0m\u001b[1;33m\u001b[0m\u001b[1;33m\u001b[0m\u001b[0m\n\u001b[1;32m----> 3\u001b[1;33m \u001b[0mmy\u001b[0m\u001b[1;33m[\u001b[0m\u001b[1;34m\"他のキー\"\u001b[0m\u001b[1;33m]\u001b[0m\u001b[1;33m=\u001b[0m\u001b[1;34m\"値\"\u001b[0m\u001b[1;33m\u001b[0m\u001b[1;33m\u001b[0m\u001b[0m\n\u001b[0m",
      "\u001b[1;32m<ipython-input-9-d13d034fcd88>\u001b[0m in \u001b[0;36m__setitem__\u001b[1;34m(self, key, value)\u001b[0m\n\u001b[0;32m     10\u001b[0m             ):\n\u001b[0;32m     11\u001b[0m                 raise DistinctError(\n\u001b[1;32m---> 12\u001b[1;33m                     \u001b[1;34m\"この値は既に別の値で登録されています\"\u001b[0m\u001b[1;33m\u001b[0m\u001b[1;33m\u001b[0m\u001b[0m\n\u001b[0m\u001b[0;32m     13\u001b[0m                 )\n\u001b[0;32m     14\u001b[0m         \u001b[0msuper\u001b[0m\u001b[1;33m(\u001b[0m\u001b[1;33m)\u001b[0m\u001b[1;33m.\u001b[0m\u001b[0m__setitem__\u001b[0m\u001b[1;33m(\u001b[0m\u001b[0mkey\u001b[0m\u001b[1;33m,\u001b[0m\u001b[0mvalue\u001b[0m\u001b[1;33m)\u001b[0m\u001b[1;33m\u001b[0m\u001b[1;33m\u001b[0m\u001b[0m\n",
      "\u001b[1;31mDistinctError\u001b[0m: この値は既に別の値で登録されています"
     ]
    }
   ],
   "source": [
    "my = distinctdist()\n",
    "my[\"キー\"] =\"値\"\n",
    "my[\"他のキー\"]=\"値\""
   ]
  },
  {
   "cell_type": "code",
   "execution_count": 11,
   "metadata": {
    "pycharm": {
     "name": "#%%\n"
    }
   },
   "outputs": [
    {
     "data": {
      "text/plain": [
       "{'キー': '値', '他のキー': '別の値'}"
      ]
     },
     "execution_count": 11,
     "metadata": {},
     "output_type": "execute_result"
    }
   ],
   "source": [
    "my[\"他のキー\"]=\"別の値\"\n",
    "my"
   ]
  },
  {
   "cell_type": "code",
   "execution_count": 46,
   "metadata": {
    "pycharm": {
     "name": "#%%\n"
    }
   },
   "outputs": [],
   "source": [
    "class Folder(list):\n",
    "    def __init__(self,name):\n",
    "        self.name = name\n",
    "    def dir(self,nesting=0):\n",
    "        offset = \" \"*nesting\n",
    "        print(\"%s%s/\"%(offset,self.name))\n",
    "        for element in self:\n",
    "            if hasattr(element,\"dir\"):\n",
    "                element.dir(nesting+1)\n",
    "            else:\n",
    "                print(\"%s %s\"%(offset,element))"
   ]
  },
  {
   "cell_type": "code",
   "execution_count": 47,
   "metadata": {},
   "outputs": [
    {
     "name": "stdout",
     "output_type": "stream",
     "text": [
      "project/\n",
      " README.md\n"
     ]
    }
   ],
   "source": [
    "tree = Folder(\"project\")\n",
    "tree.append(\"README.md\")\n",
    "tree.dir()"
   ]
  },
  {
   "cell_type": "code",
   "execution_count": 48,
   "metadata": {},
   "outputs": [
    {
     "name": "stdout",
     "output_type": "stream",
     "text": [
      "project/\n",
      " README.md\n",
      " src/\n",
      "  script.py\n"
     ]
    }
   ],
   "source": [
    "src = Folder(\"src\")\n",
    "src.append(\"script.py\")\n",
    "tree.append(src)\n",
    "tree.dir()"
   ]
  },
  {
   "cell_type": "code",
   "execution_count": null,
   "metadata": {},
   "outputs": [],
   "source": []
  }
 ],
 "metadata": {
  "kernelspec": {
   "display_name": "PyCharm (MyExercise)",
   "language": "python",
   "name": "pycharm-8dd1b8f8"
  },
  "language_info": {
   "codemirror_mode": {
    "name": "ipython",
    "version": 3
   },
   "file_extension": ".py",
   "mimetype": "text/x-python",
   "name": "python",
   "nbconvert_exporter": "python",
   "pygments_lexer": "ipython3",
   "version": "3.6.8"
  },
  "pycharm": {
   "stem_cell": {
    "cell_type": "raw",
    "metadata": {
     "collapsed": false
    },
    "source": []
   }
  }
 },
 "nbformat": 4,
 "nbformat_minor": 1
}
